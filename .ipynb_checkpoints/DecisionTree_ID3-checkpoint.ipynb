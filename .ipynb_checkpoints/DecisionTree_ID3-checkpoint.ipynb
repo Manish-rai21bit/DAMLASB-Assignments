{
 "cells": [
  {
   "cell_type": "markdown",
   "metadata": {},
   "source": [
    "### HW4.1 Build a decision to predict whether you can play tennis or not"
   ]
  },
  {
   "cell_type": "code",
   "execution_count": 1,
   "metadata": {
    "collapsed": false
   },
   "outputs": [
    {
     "name": "stdout",
     "output_type": "stream",
     "text": [
      "/Users/z00193k/Desktop/DataScienceTrainingDocs/Assignments\r\n"
     ]
    }
   ],
   "source": [
    "!pwd"
   ]
  },
  {
   "cell_type": "code",
   "execution_count": 2,
   "metadata": {
    "collapsed": false
   },
   "outputs": [
    {
     "name": "stdout",
     "output_type": "stream",
     "text": [
      "/Users/z00193k/Desktop/DataScienceTrainingDocs/Assignments/DecisionTree\n"
     ]
    }
   ],
   "source": [
    "%cd DecisionTree"
   ]
  },
  {
   "cell_type": "code",
   "execution_count": 57,
   "metadata": {
    "collapsed": false
   },
   "outputs": [
    {
     "name": "stdout",
     "output_type": "stream",
     "text": [
      "Overwriting dataset.txt\n"
     ]
    }
   ],
   "source": [
    "%%writefile dataset.txt\n",
    "sunny hot high FALSE no\n",
    "sunny hot high TRUE no\n",
    "overcast hot high FALSE yes\n",
    "rainy mild high FALSE yes\n",
    "rainy cool normal FALSE yes\n",
    "rainy cool normal TRUE no\n",
    "overcast cool normal TRUE yes\n",
    "sunny mild high FALSE no\n",
    "sunny cool normal FALSE yes\n",
    "rainy mild normal FALSE yes\n",
    "sunny mild normal TRUE yes\n",
    "overcast mild high TRUE yes\n",
    "overcast hot normal FALSE yes\n",
    "rainy mild high TRUE no"
   ]
  },
  {
   "cell_type": "code",
   "execution_count": 58,
   "metadata": {
    "collapsed": true
   },
   "outputs": [],
   "source": [
    "f=open(\"/Users/z00193k/Desktop/DataScienceTrainingDocs/Assignments/DecisionTree/dataset.txt\", \"r\")"
   ]
  },
  {
   "cell_type": "code",
   "execution_count": 59,
   "metadata": {
    "collapsed": false
   },
   "outputs": [],
   "source": [
    "splitline=[]\n",
    "inputs=[]\n",
    "current={}\n",
    "for line in f:\n",
    "    inter=[]\n",
    "    splitline = line.split()\n",
    "    current[\"outlook\"]=splitline[0]\n",
    "    current[\"temperature\"]=splitline[1]\n",
    "    current[\"humidity\"]=splitline[2]\n",
    "    current[\"wind\"]=splitline[3]\n",
    "    inter.append(current)\n",
    "    inter.append(splitline[4])\n",
    "#    inter[1]=splitline[5]\n",
    "    inputs.append(inter)\n",
    "#    current={}"
   ]
  },
  {
   "cell_type": "code",
   "execution_count": 60,
   "metadata": {
    "collapsed": true
   },
   "outputs": [],
   "source": [
    "from __future__ import division\n",
    "from collections import Counter, defaultdict\n",
    "from functools import partial\n",
    "import math, random\n",
    "\n",
    "def entropy(class_probabilities):\n",
    "    \"\"\"given a list of class probabilities, compute the entropy\"\"\"\n",
    "    return sum(-p * math.log(p, 2) for p in class_probabilities if p)\n",
    "\n",
    "def class_probabilities(labels):\n",
    "    total_count = len(labels)\n",
    "    return [count/total_count for count in Counter(labels).values()]\n",
    "\n",
    "def data_entropy(labeled_data):        \n",
    "    labels = [label for _, label in labeled_data]\n",
    "    probabilities = class_probabilities(labels)\n",
    "    return entropy(probabilities)"
   ]
  },
  {
   "cell_type": "code",
   "execution_count": 61,
   "metadata": {
    "collapsed": true
   },
   "outputs": [],
   "source": [
    "def partition_entropy(subsets):\n",
    "    \"\"\"find the entropy from this partition of data into subsets\"\"\"\n",
    "    total_count = sum(len(subset) for subset in subsets)    \n",
    "    return sum(data_entropy(subset)*len(subset)/total_count for subset in subsets )"
   ]
  },
  {
   "cell_type": "code",
   "execution_count": 62,
   "metadata": {
    "collapsed": true
   },
   "outputs": [],
   "source": [
    "inputs = [({'humidity': 'high','outlook': 'rainy','temperature': 'mild','wind': 'TRUE'},'no'),\n",
    "          ({'humidity': 'high','outlook': 'rainy','temperature': 'mild','wind': 'TRUE'},'no'),\n",
    "          ({'humidity': 'high','outlook': 'rainy','temperature': 'mild','wind': 'TRUE'},'yes'),\n",
    "          ({'humidity': 'high','outlook': 'rainy','temperature': 'mild','wind': 'TRUE'},'yes'),\n",
    "          ({'humidity': 'high','outlook': 'rainy','temperature': 'mild','wind': 'TRUE'},'yes'),\n",
    "          ({'humidity': 'high','outlook': 'rainy','temperature': 'mild','wind': 'TRUE'},'no'),\n",
    "          ({'humidity': 'high','outlook': 'rainy','temperature': 'mild','wind': 'TRUE'},'yes'),\n",
    "          ({'humidity': 'high','outlook': 'rainy','temperature': 'mild','wind': 'TRUE'},'no'),\n",
    "          ({'humidity': 'high','outlook': 'rainy','temperature': 'mild','wind': 'TRUE'},'yes'),\n",
    "          ({'humidity': 'high','outlook': 'rainy','temperature': 'mild','wind': 'TRUE'},'yes'),\n",
    "          ({'humidity': 'high','outlook': 'rainy','temperature': 'mild','wind': 'TRUE'},'yes'),\n",
    "          ({'humidity': 'high','outlook': 'rainy','temperature': 'mild','wind': 'TRUE'},'yes'),\n",
    "          ({'humidity': 'high','outlook': 'rainy','temperature': 'mild','wind': 'TRUE'},'yes'),\n",
    "          ({'humidity': 'high','outlook': 'rainy','temperature': 'mild','wind': 'TRUE'},'no')]"
   ]
  },
  {
   "cell_type": "code",
   "execution_count": 63,
   "metadata": {
    "collapsed": false,
    "scrolled": true
   },
   "outputs": [
    {
     "data": {
      "text/plain": [
       "[({'humidity': 'high',\n",
       "   'outlook': 'rainy',\n",
       "   'temperature': 'mild',\n",
       "   'wind': 'TRUE'},\n",
       "  'no'),\n",
       " ({'humidity': 'high',\n",
       "   'outlook': 'rainy',\n",
       "   'temperature': 'mild',\n",
       "   'wind': 'TRUE'},\n",
       "  'no'),\n",
       " ({'humidity': 'high',\n",
       "   'outlook': 'rainy',\n",
       "   'temperature': 'mild',\n",
       "   'wind': 'TRUE'},\n",
       "  'yes'),\n",
       " ({'humidity': 'high',\n",
       "   'outlook': 'rainy',\n",
       "   'temperature': 'mild',\n",
       "   'wind': 'TRUE'},\n",
       "  'yes'),\n",
       " ({'humidity': 'high',\n",
       "   'outlook': 'rainy',\n",
       "   'temperature': 'mild',\n",
       "   'wind': 'TRUE'},\n",
       "  'yes'),\n",
       " ({'humidity': 'high',\n",
       "   'outlook': 'rainy',\n",
       "   'temperature': 'mild',\n",
       "   'wind': 'TRUE'},\n",
       "  'no'),\n",
       " ({'humidity': 'high',\n",
       "   'outlook': 'rainy',\n",
       "   'temperature': 'mild',\n",
       "   'wind': 'TRUE'},\n",
       "  'yes'),\n",
       " ({'humidity': 'high',\n",
       "   'outlook': 'rainy',\n",
       "   'temperature': 'mild',\n",
       "   'wind': 'TRUE'},\n",
       "  'no'),\n",
       " ({'humidity': 'high',\n",
       "   'outlook': 'rainy',\n",
       "   'temperature': 'mild',\n",
       "   'wind': 'TRUE'},\n",
       "  'yes'),\n",
       " ({'humidity': 'high',\n",
       "   'outlook': 'rainy',\n",
       "   'temperature': 'mild',\n",
       "   'wind': 'TRUE'},\n",
       "  'yes'),\n",
       " ({'humidity': 'high',\n",
       "   'outlook': 'rainy',\n",
       "   'temperature': 'mild',\n",
       "   'wind': 'TRUE'},\n",
       "  'yes'),\n",
       " ({'humidity': 'high',\n",
       "   'outlook': 'rainy',\n",
       "   'temperature': 'mild',\n",
       "   'wind': 'TRUE'},\n",
       "  'yes'),\n",
       " ({'humidity': 'high',\n",
       "   'outlook': 'rainy',\n",
       "   'temperature': 'mild',\n",
       "   'wind': 'TRUE'},\n",
       "  'yes'),\n",
       " ({'humidity': 'high',\n",
       "   'outlook': 'rainy',\n",
       "   'temperature': 'mild',\n",
       "   'wind': 'TRUE'},\n",
       "  'no')]"
      ]
     },
     "execution_count": 63,
     "metadata": {},
     "output_type": "execute_result"
    }
   ],
   "source": [
    "inputs"
   ]
  },
  {
   "cell_type": "code",
   "execution_count": 64,
   "metadata": {
    "collapsed": true
   },
   "outputs": [],
   "source": [
    "def group_by(items, key_fn):\n",
    "    \"\"\"returns a defaultdict(list), where each input item \n",
    "    is in the list whose key is key_fn(item)\"\"\"\n",
    "    groups = defaultdict(list)\n",
    "    for item in items:\n",
    "        key = key_fn(item)\n",
    "        groups[key].append(item)\n",
    "    return groups\n",
    "    \n",
    "def partition_by(inputs, attribute):\n",
    "    \"\"\"returns a dict of inputs partitioned by the attribute\n",
    "    each input is a pair (attribute_dict, label)\"\"\"\n",
    "    return group_by(inputs, lambda x: x[0][attribute]) "
   ]
  },
  {
   "cell_type": "code",
   "execution_count": 65,
   "metadata": {
    "collapsed": true
   },
   "outputs": [],
   "source": [
    "def partition_entropy_by(inputs, attribute):\n",
    "    \"\"\"computes the entropy corresponding to the given partition\"\"\"        \n",
    "    partitions = partition_by(inputs, attribute)\n",
    "    return partition_entropy(partitions.values())"
   ]
  },
  {
   "cell_type": "code",
   "execution_count": 66,
   "metadata": {
    "collapsed": false
   },
   "outputs": [
    {
     "name": "stdout",
     "output_type": "stream",
     "text": [
      "humidity 0.940285958671\n",
      "outlook 0.940285958671\n",
      "temperature 0.940285958671\n",
      "wind 0.940285958671\n"
     ]
    }
   ],
   "source": [
    "for key in['humidity','outlook','temperature','wind']:\n",
    "    print key, partition_entropy_by(inputs, key)"
   ]
  },
  {
   "cell_type": "code",
   "execution_count": 45,
   "metadata": {
    "collapsed": false
   },
   "outputs": [
    {
     "name": "stdout",
     "output_type": "stream",
     "text": [
      "outlook 0.940285958671\n",
      "temperature 0.940285958671\n",
      "wind 0.940285958671\n"
     ]
    }
   ],
   "source": [
    "senior_inputs = [(input, label) for input, label in inputs if input[\"humidity\"] == \"high\"]\n",
    "\n",
    "for key in ['outlook', 'temperature', 'wind']:\n",
    "    print key, partition_entropy_by(senior_inputs, key)"
   ]
  },
  {
   "cell_type": "code",
   "execution_count": 46,
   "metadata": {
    "collapsed": true
   },
   "outputs": [],
   "source": [
    "def classify(tree, input):\n",
    "    \"\"\"classify the input using the given decision tree\"\"\"\n",
    "    \n",
    "    # if this is a leaf node, return its value\n",
    "    if tree in [True, False]:\n",
    "        return tree\n",
    "   \n",
    "    # otherwise find the correct subtree\n",
    "    attribute, subtree_dict = tree\n",
    "    \n",
    "    subtree_key = input.get(attribute)  # None if input is missing attribute\n",
    "\n",
    "    if subtree_key not in subtree_dict: # if no subtree for key,\n",
    "        subtree_key = None              # we'll use the None subtree\n",
    "    \n",
    "    subtree = subtree_dict[subtree_key] # choose the appropriate subtree\n",
    "    return classify(subtree, input)     # and use it to classify the input"
   ]
  },
  {
   "cell_type": "code",
   "execution_count": 47,
   "metadata": {
    "collapsed": false
   },
   "outputs": [
    {
     "name": "stdout",
     "output_type": "stream",
     "text": [
      "building the tree\n",
      "True\n"
     ]
    }
   ],
   "source": [
    "def build_tree_id3(inputs, split_candidates=None):\n",
    "\n",
    "    # if this is our first pass, \n",
    "    # all keys of the first input are split candidates\n",
    "    if split_candidates is None:\n",
    "        split_candidates = inputs[0][0].keys()\n",
    "\n",
    "    # count Trues and Falses in the inputs\n",
    "    num_inputs = len(inputs)\n",
    "    num_trues = len([label for item, label in inputs if label])\n",
    "    num_falses = num_inputs - num_trues\n",
    "    \n",
    "    if num_trues == 0:                  # if only Falses are left\n",
    "        return False                    # return a \"False\" leaf\n",
    "        \n",
    "    if num_falses == 0:                 # if only Trues are left\n",
    "        return True                     # return a \"True\" leaf\n",
    "\n",
    "    if not split_candidates:            # if no split candidates left\n",
    "        return num_trues >= num_falses  # return the majority leaf\n",
    "                            \n",
    "    # otherwise, split on the best attribute\n",
    "    best_attribute = min(split_candidates,\n",
    "        key=partial(partition_entropy_by, inputs))\n",
    "\n",
    "    partitions = partition_by(inputs, best_attribute)\n",
    "    new_candidates = [a for a in split_candidates \n",
    "                      if a != best_attribute]\n",
    "    \n",
    "    # recursively build the subtrees\n",
    "    subtrees = { attribute : build_tree_id3(subset, new_candidates)\n",
    "                 for attribute, subset in partitions.iteritems() }\n",
    "\n",
    "    subtrees[None] = num_trues > num_falses # default case\n",
    "\n",
    "    return (best_attribute, subtrees)\n",
    "\n",
    "print \"building the tree\"\n",
    "tree = build_tree_id3(inputs)\n",
    "print tree"
   ]
  },
  {
   "cell_type": "code",
   "execution_count": 48,
   "metadata": {
    "collapsed": false
   },
   "outputs": [
    {
     "name": "stdout",
     "output_type": "stream",
     "text": [
      "Junior / Java / tweets / no phd:  True\n"
     ]
    }
   ],
   "source": [
    "print \"Junior / Java / tweets / no phd: \", classify(tree, \n",
    "     {\"humidity\" : \"high\", \n",
    "      \"outlook\" : \"rainy\", \n",
    "      \"temperature\" : \"mild\", \n",
    "      \"wind\" : \"TRUE\"}) \n"
   ]
  },
  {
   "cell_type": "code",
   "execution_count": 49,
   "metadata": {
    "collapsed": false
   },
   "outputs": [
    {
     "name": "stdout",
     "output_type": "stream",
     "text": [
      "Intern:  True\n",
      "Senior:  True\n"
     ]
    }
   ],
   "source": [
    "print \"Intern: \", classify(tree, { \"level\" : \"humidity\" } )\n",
    "print \"Senior: \", classify(tree, { \"level\" : \"Senior\" } )"
   ]
  },
  {
   "cell_type": "code",
   "execution_count": null,
   "metadata": {
    "collapsed": true
   },
   "outputs": [],
   "source": []
  }
 ],
 "metadata": {
  "kernelspec": {
   "display_name": "Python 2",
   "language": "python",
   "name": "python2"
  },
  "language_info": {
   "codemirror_mode": {
    "name": "ipython",
    "version": 2
   },
   "file_extension": ".py",
   "mimetype": "text/x-python",
   "name": "python",
   "nbconvert_exporter": "python",
   "pygments_lexer": "ipython2",
   "version": "2.7.12"
  }
 },
 "nbformat": 4,
 "nbformat_minor": 1
}
