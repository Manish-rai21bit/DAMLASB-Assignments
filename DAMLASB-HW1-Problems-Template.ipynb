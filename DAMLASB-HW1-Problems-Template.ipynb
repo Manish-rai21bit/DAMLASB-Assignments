{
 "cells": [
  {
   "cell_type": "markdown",
   "metadata": {},
   "source": [
    "# DAMLAS - Machine Learning At Scale\n",
    "## Assignment - HW1\n",
    "Data Analytics and Machine Learning at Scale\n",
    "Target, Bangalore\n",
    "\n",
    "---\n",
    "__Name:__  *Your Name Goes Here*   \n",
    "__Class:__ DAMLAS (Section *Your Section Goes Here*, e.g., Fall 2016)     \n",
    "__Email:__  *Your Target Email User Goes Here*@Target.com     \n",
    "__Week:__   01\n",
    "\n",
    "# Table of Contents <a name=\"TOC\"></a> \n",
    "\n",
    "1.  [HW Introduction](#1)   \n",
    "2.  [HW References](#2)\n",
    "3.  [HW  Problems](#3)   \n",
    "    1.0.  [HW1.1](#1.1)   \n",
    "    1.2.  [HW1.2](#1.2)   \n",
    "    1.3.  [HW1.3](#1.3)    \n",
    "    1.4.  [HW1.4](#1.4)    \n",
    "    "
   ]
  },
  {
   "cell_type": "markdown",
   "metadata": {},
   "source": [
    "\n",
    "<a name=\"1\">\n",
    "# 1 Instructions\n",
    "[Back to Table of Contents](#TOC)\n",
    "* Homework submissions are due by Tuesday, 08/30/2016 at 11:30AM.\n",
    "\n",
    "\n",
    "* Prepare a single Jupyter notebook (not a requirment), please include questions, and question numbers in the questions and in the responses.\n",
    "Submit your homework notebook via the following form:\n",
    "\n",
    "   + [Submission Link - Google Form](http://goo.gl/forms/er3OFr5eCMWDngB72)\n",
    "\n",
    "\n",
    "### Documents:\n",
    "* IPython Notebook, published and viewable online.\n",
    "* PDF export of IPython Notebook.\n",
    "\n",
    "<a name=\"2\">\n",
    "# 2 Useful References\n",
    "[Back to Table of Contents](#TOC)\n",
    "\n",
    "* [Slides from lecture: Python Review for Data Scientists + Python review](https://www.dropbox.com/s/8gko9uuwfgnwit4/Python-For-Data-Science-Review-2016-08-29.pdf?dl=0)\n",
    "* [Word Count example using basic Python](https://www.dropbox.com/s/7z6dnlam76irqbo/Chp3-Visualizing-Data-via-matplotlib.ipynb?dl=0)\n",
    "* [Everything you want to know about dictionaries in Python](http://openbookproject.net/thinkcs/python/english3e/dictionaries.html)\n",
    "* [Learning dictionaries via onlibe programming](http://interactivepython.org/courselib/static/thinkcspy/Dictionaries/Dictionarymethods.html)\n",
    "---\n"
   ]
  },
  {
   "cell_type": "markdown",
   "metadata": {},
   "source": [
    "# 3.  HW1  <a name=\"3\"></a>\n",
    "[Back to Table of Contents](#TOC)\n",
    "---\n",
    "## 3.  HW1.1  <a name=\"1.1\"></a>\n",
    "[Back to Table of Contents](#TOC)"
   ]
  },
  {
   "cell_type": "markdown",
   "metadata": {},
   "source": [
    "* [Reference: Everything you want to know about dictionaries in Python](http://openbookproject.net/thinkcs/python/english3e/dictionaries.html)\n"
   ]
  },
  {
   "cell_type": "markdown",
   "metadata": {},
   "source": [
    "__Description__\n",
    "Write a program that reads a string and returns a table of the letters of the alphabet in alphabetical order which occur in the string together with the number of times each letter occurs. Case should be ignored. A sample output of the program when the user enters the data “ThiS is String with Upper and lower case Letters”, would look this this:"
   ]
  },
  {
   "cell_type": "raw",
   "metadata": {},
   "source": [
    "a  2\n",
    "c  1\n",
    "d  1\n",
    "e  5\n",
    "g  1\n",
    "h  2\n",
    "i  4\n",
    "l  2\n",
    "n  2\n",
    "o  1\n",
    "p  2\n",
    "r  4\n",
    "s  5\n",
    "t  5\n",
    "u  1\n",
    "w  2"
   ]
  },
  {
   "cell_type": "code",
   "execution_count": 2,
   "metadata": {
    "collapsed": false
   },
   "outputs": [
    {
     "name": "stdout",
     "output_type": "stream",
     "text": [
      "/Users/jshanahan/Dropbox/Projects/Target-2016-04/Classes-India-2016-08-29/Lecture02-Python-Review/Notebooks/Solution\r\n"
     ]
    }
   ],
   "source": [
    "# check which directory we are in\n",
    "!pwd"
   ]
  },
  {
   "cell_type": "code",
   "execution_count": 3,
   "metadata": {
    "collapsed": false
   },
   "outputs": [
    {
     "name": "stdout",
     "output_type": "stream",
     "text": [
      "/Users/jshanahan/Dropbox/Projects/Target-2016-04/Classes-India-2016-08-29/Lecture02-Python-Review/Notebooks/Solution\n"
     ]
    }
   ],
   "source": [
    "#change directory\n",
    "%cd /Users/jshanahan/Dropbox/Projects/Target-2016-04/Classes-India-2016-08-29/Lecture02-Python-Review/Notebooks/Solution"
   ]
  },
  {
   "cell_type": "code",
   "execution_count": 4,
   "metadata": {
    "collapsed": false
   },
   "outputs": [
    {
     "name": "stdout",
     "output_type": "stream",
     "text": [
      "mkdir: HW1: File exists\n",
      "/Users/jshanahan/Dropbox/Projects/Target-2016-04/Classes-India-2016-08-29/Lecture02-Python-Review/Notebooks/Solution/HW1\n"
     ]
    }
   ],
   "source": [
    "#mkdir a sub-directory for Homework\n",
    "!mkdir HW1\n",
    "#Change to subdirectory\n",
    "%cd HW1"
   ]
  },
  {
   "cell_type": "code",
   "execution_count": 14,
   "metadata": {
    "collapsed": false
   },
   "outputs": [
    {
     "name": "stdout",
     "output_type": "stream",
     "text": [
      "a 2\n",
      "c 1\n",
      "d 1\n",
      "e 5\n",
      "g 1\n",
      "h 2\n",
      "i 4\n",
      "l 2\n",
      "n 2\n",
      "o 1\n",
      "p 2\n",
      "r 4\n",
      "s 5\n",
      "t 5\n",
      "u 1\n",
      "w 2\n"
     ]
    }
   ],
   "source": [
    "def character_count(sampletext):\n",
    "    sampletext = sampletext.lower()\n",
    "    .......\n",
    "character_count('ThiS is String with Upper and lower case Letters')"
   ]
  },
  {
   "cell_type": "markdown",
   "metadata": {},
   "source": [
    "## 3.  HW1.2  <a name=\"1.2\"></a>\n",
    "[Back to Table of Contents](#TOC)\n",
    "Give the Python interpreter’s response to each of the following from a continuous interpreter session:"
   ]
  },
  {
   "cell_type": "code",
   "execution_count": 16,
   "metadata": {
    "collapsed": false
   },
   "outputs": [
    {
     "data": {
      "text/plain": [
       "35"
      ]
     },
     "execution_count": 16,
     "metadata": {},
     "output_type": "execute_result"
    }
   ],
   "source": [
    "d = {\"apples\": 15, \"bananas\": 35, \"grapes\": 12}\n",
    "d[\"bananas\"]"
   ]
  },
  {
   "cell_type": "code",
   "execution_count": 17,
   "metadata": {
    "collapsed": false
   },
   "outputs": [
    {
     "data": {
      "text/plain": [
       "4"
      ]
     },
     "execution_count": 17,
     "metadata": {},
     "output_type": "execute_result"
    }
   ],
   "source": [
    "d[\"oranges\"] = 20\n",
    "len(d)"
   ]
  },
  {
   "cell_type": "code",
   "execution_count": 18,
   "metadata": {
    "collapsed": false
   },
   "outputs": [
    {
     "data": {
      "text/plain": [
       "True"
      ]
     },
     "execution_count": 18,
     "metadata": {},
     "output_type": "execute_result"
    }
   ],
   "source": [
    "\"grapes\" in d"
   ]
  },
  {
   "cell_type": "code",
   "execution_count": 19,
   "metadata": {
    "collapsed": false
   },
   "outputs": [
    {
     "ename": "KeyError",
     "evalue": "'pears'",
     "output_type": "error",
     "traceback": [
      "\u001b[0;31m---------------------------------------------------------------------------\u001b[0m",
      "\u001b[0;31mKeyError\u001b[0m                                  Traceback (most recent call last)",
      "\u001b[0;32m<ipython-input-19-fd5e266bd276>\u001b[0m in \u001b[0;36m<module>\u001b[0;34m()\u001b[0m\n\u001b[0;32m----> 1\u001b[0;31m \u001b[0md\u001b[0m\u001b[0;34m[\u001b[0m\u001b[0;34m\"pears\"\u001b[0m\u001b[0;34m]\u001b[0m\u001b[0;34m\u001b[0m\u001b[0m\n\u001b[0m",
      "\u001b[0;31mKeyError\u001b[0m: 'pears'"
     ]
    }
   ],
   "source": [
    "d[\"pears\"]"
   ]
  },
  {
   "cell_type": "code",
   "execution_count": 20,
   "metadata": {
    "collapsed": false
   },
   "outputs": [
    {
     "data": {
      "text/plain": [
       "0"
      ]
     },
     "execution_count": 20,
     "metadata": {},
     "output_type": "execute_result"
    }
   ],
   "source": [
    "d.get(\"pears\", 0)"
   ]
  },
  {
   "cell_type": "code",
   "execution_count": 21,
   "metadata": {
    "collapsed": false
   },
   "outputs": [
    {
     "name": "stdout",
     "output_type": "stream",
     "text": [
      "['apples', 'bananas', 'grapes', 'oranges']\n"
     ]
    }
   ],
   "source": [
    "fruits = list(d.keys())\n",
    "fruits.sort()\n",
    "print(fruits)"
   ]
  },
  {
   "cell_type": "code",
   "execution_count": 12,
   "metadata": {
    "collapsed": false
   },
   "outputs": [
    {
     "name": "stdout",
     "output_type": "stream",
     "text": [
      "['apples', 'bananas', 'grapes', 'oranges']\n"
     ]
    },
    {
     "data": {
      "text/plain": [
       "False"
      ]
     },
     "execution_count": 12,
     "metadata": {},
     "output_type": "execute_result"
    }
   ],
   "source": [
    "del d[\"apples\"]\n",
    "\"apples\" in d"
   ]
  },
  {
   "cell_type": "markdown",
   "metadata": {},
   "source": [
    "__Be sure you understand why you get each result. Then apply what you have learned to fill in the body of the function below:__"
   ]
  },
  {
   "cell_type": "code",
   "execution_count": 22,
   "metadata": {
    "collapsed": false
   },
   "outputs": [
    {
     "name": "stdout",
     "output_type": "stream",
     "text": [
      "True\n"
     ]
    }
   ],
   "source": [
    "def add_fruit(inventory, fruit, quantity=0):\n",
    "    inventory[fruit] = quantity\n",
    "    return\n",
    "    \n",
    "def test(string):\n",
    "    x = string\n",
    "    print(x)\n",
    "    return\n",
    "\n",
    "new_inventory = {}\n",
    "add_fruit(new_inventory, \"strawberries\", 10)\n",
    "test(\"strawberries\" in new_inventory)"
   ]
  },
  {
   "cell_type": "code",
   "execution_count": 23,
   "metadata": {
    "collapsed": false
   },
   "outputs": [
    {
     "name": "stdout",
     "output_type": "stream",
     "text": [
      "True\n"
     ]
    }
   ],
   "source": [
    "test(new_inventory[\"strawberries\"] == 10)"
   ]
  },
  {
   "cell_type": "code",
   "execution_count": 26,
   "metadata": {
    "collapsed": false
   },
   "outputs": [
    {
     "name": "stdout",
     "output_type": "stream",
     "text": [
      "False\n"
     ]
    }
   ],
   "source": [
    "add_fruit(new_inventory, \"strawberries\", 25)\n",
    "test(new_inventory[\"strawberries\"] == 35)"
   ]
  },
  {
   "cell_type": "markdown",
   "metadata": {},
   "source": [
    "## 3.  HW1.3  <a name=\"1.3\"></a>\n",
    "[Back to Table of Contents](#TOC)\n",
    "\n",
    "Write a program called alice_words.py that creates a text file named __alice_words.txt__ containing an alphabetical listing of all the words, and the number of times each occurs, in the text version of Alice’s Adventures in Wonderland. (You can obtain a free plain text version of the book, along with many others, from [here](http://www.gutenberg.org.) The first 10 lines of your output file should look something like this:"
   ]
  },
  {
   "cell_type": "raw",
   "metadata": {},
   "source": [
    "Word              Count\n",
    "=======================\n",
    "a                 631\n",
    "a-piece           1\n",
    "abide             1\n",
    "able              1\n",
    "about             94\n",
    "above             3\n",
    "absence           1\n",
    "absurd            2"
   ]
  },
  {
   "cell_type": "markdown",
   "metadata": {},
   "source": [
    "How many times does the word alice occur in the book?"
   ]
  },
  {
   "cell_type": "code",
   "execution_count": 34,
   "metadata": {
    "collapsed": false
   },
   "outputs": [
    {
     "name": "stdout",
     "output_type": "stream",
     "text": [
      "  % Total    % Received % Xferd  Average Speed   Time    Time     Time  Current\n",
      "                                 Dload  Upload   Total   Spent    Left  Speed\n",
      "100  163k  100  163k    0     0  42241      0  0:00:03  0:00:03 --:--:-- 42238\n"
     ]
    }
   ],
   "source": [
    "\n",
    "!curl 'http://www.gutenberg.org/cache/epub/11/pg11.txt' -o alicesTExtFilename.txt"
   ]
  },
  {
   "cell_type": "code",
   "execution_count": 35,
   "metadata": {
    "collapsed": false
   },
   "outputs": [
    {
     "name": "stdout",
     "output_type": "stream",
     "text": [
      "﻿Project Gutenberg's Alice's Adventures in Wonderland, by Lewis Carroll\r",
      "\r\n",
      "\r",
      "\r\n",
      "This eBook is for the use of anyone anywhere at no cost and with\r",
      "\r\n",
      "almost no restrictions whatsoever.  You may copy it, give it away or\r",
      "\r\n",
      "re-use it under the terms of the Project Gutenberg License included\r",
      "\r\n",
      "with this eBook or online at www.gutenberg.org\r",
      "\r\n",
      "\r",
      "\r\n",
      "\r",
      "\r\n",
      "Title: Alice's Adventures in Wonderland\r",
      "\r\n",
      "\r",
      "\r\n"
     ]
    }
   ],
   "source": [
    "!head alicesTExtFilename.txt"
   ]
  },
  {
   "cell_type": "markdown",
   "metadata": {},
   "source": [
    "### defaultdict for word counting\n",
    " One way to do word counting but not best. A defaultdict is like a regular dictionary, except that when you try to look up a key it doesn’t contain, it first adds a value for it using a zero-argument function you provided\n",
    "when you created it. In order to use defaultdicts, you have to import them"
   ]
  },
  {
   "cell_type": "code",
   "execution_count": 12,
   "metadata": {
    "collapsed": false
   },
   "outputs": [
    {
     "name": "stdout",
     "output_type": "stream",
     "text": [
      "(1, 89)\n",
      "(2, 3)\n",
      "(3, 0)\n",
      "(4, 5)\n"
     ]
    }
   ],
   "source": [
    "#Sort dictionary by key\n",
    "D1 = {2:3, 1:89, 4:5, 3:0}\n",
    "for key in sorted(D1):\n",
    "    print (key, D1[key])\n"
   ]
  },
  {
   "cell_type": "code",
   "execution_count": 52,
   "metadata": {
    "collapsed": false,
    "scrolled": false
   },
   "outputs": [
    {
     "name": "stdout",
     "output_type": "stream",
     "text": [
      "alice\t\t155\n",
      "\n",
      "Word              Count\r\n",
      "=======================\r\n",
      "\t\t\t1\r\n",
      "\"'tis\t\t\t1\r\n",
      "\"--said\r",
      "\r\n",
      "i\t\t\t1\r\n",
      "\"come\t\t\t1\r\n",
      "\"coming\t\t\t1\r\n",
      "\"edwin\t\t\t1\r\n",
      "\"he's\t\t\t1\r\n"
     ]
    }
   ],
   "source": [
    "from collections import defaultdict\n",
    "header = \"\"\"Word              Count\n",
    "=======================\n",
    "\"\"\"\n",
    "\n",
    "def HW1_3(inputFilename, outFilename):\n",
    "    .....\n",
    "    return(wordCounts)\n",
    "\n",
    "wordCounts = HW1_3(\"alicesTExtFilename.txt\", \"alice_words.txt\")\n",
    "print (\"%s\t\\t%s\\n\" %(\"word count for alice is \", .....)) \n",
    "!head \"alice_words.txt\""
   ]
  },
  {
   "cell_type": "markdown",
   "metadata": {},
   "source": [
    "# Example of word splitting"
   ]
  },
  {
   "cell_type": "code",
   "execution_count": 47,
   "metadata": {
    "collapsed": false
   },
   "outputs": [
    {
     "name": "stdout",
     "output_type": "stream",
     "text": [
      "!\"#$%&'()*+,-./:;<=>?@[\\]^_`{|}~\n",
      "\\!\\\"\\#\\$\\%\\&\\'\\(\\)\\*\\+\\,\\-\\.\\/\\:\\;\\<\\=\\>\\?\\@\\[\\\\\\]\\^\\_\\`\\{\\|\\}\\~\n"
     ]
    }
   ],
   "source": [
    "#predefined punctuation list  \n",
    "print string.punctuation\n",
    "print re.escape(string.punctuation)"
   ]
  },
  {
   "cell_type": "code",
   "execution_count": 94,
   "metadata": {
    "collapsed": false
   },
   "outputs": [
    {
     "name": "stdout",
     "output_type": "stream",
     "text": [
      " \t1\n",
      "0017 \t1\n",
      "2000 \t1\n",
      "01 \t1\n",
      "17 \t1\n",
      "beck \t1\n",
      "0 \t1\n",
      "global \t1\n",
      "risk \t1\n",
      "management \t1\n",
      "operations \t1\n",
      "congratulations \t1\n",
      "sally \t1\n",
      "kk \t1\n",
      "forwarded \t1\n",
      "by \t1\n",
      "kathy \t1\n",
      "kokas \t1\n",
      "corp \t1\n",
      "on \t1\n",
      "01 \t1\n",
      "17 \t1\n",
      "2000 \t1\n",
      "08 \t1\n",
      "08 \t1\n",
      "pm \t1\n",
      "from \t1\n",
      "rick \t1\n",
      "causey \t1\n",
      "01 \t1\n",
      "17 \t1\n",
      "2000 \t1\n",
      "06 \t1\n",
      "04 \t1\n",
      "pm \t1\n",
      "sent \t1\n",
      "by \t1\n",
      "announcements \t1\n",
      "to \t1\n",
      "all \t1\n",
      "worldwide \t1\n",
      "cc \t1\n",
      "subject \t1\n",
      "global \t1\n",
      "risk \t1\n",
      "management \t1\n",
      "operations \t1\n",
      "recognizing \t1\n",
      "\u0001 \t1\n",
      "s \t1\n",
      "increasing \t1\n",
      "worldwide \t1\n",
      "presence \t1\n",
      "in \t1\n",
      "the \t1\n",
      "wholesale \t1\n",
      "energy \t1\n",
      "business \t1\n",
      "and \t1\n",
      "the \t1\n",
      "need \t1\n",
      "to \t1\n",
      "insure \t1\n",
      "outstanding \t1\n",
      "internal \t1\n",
      "controls \t1\n",
      "for \t1\n",
      "all \t1\n",
      "of \t1\n",
      "our \t1\n",
      "risk \t1\n",
      "management \t1\n",
      "activities \t1\n",
      "regardless \t1\n",
      "of \t1\n",
      "location \t1\n",
      "a \t1\n",
      "global \t1\n",
      "risk \t1\n",
      "management \t1\n",
      "operations \t1\n",
      "function \t1\n",
      "has \t1\n",
      "been \t1\n",
      "created \t1\n",
      "under \t1\n",
      "the \t1\n",
      "direction \t1\n",
      "of \t1\n",
      "sally \t1\n",
      "w \t1\n",
      "beck \t1\n",
      "vice \t1\n",
      "president \t1\n",
      "in \t1\n",
      "this \t1\n",
      "role \t1\n",
      "sally \t1\n",
      "will \t1\n",
      "report \t1\n",
      "to \t1\n",
      "rick \t1\n",
      "causey \t1\n",
      "executive \t1\n",
      "vice \t1\n",
      "president \t1\n",
      "and \t1\n",
      "chief \t1\n",
      "accounting \t1\n",
      "officer \t1\n",
      "sally \t1\n",
      "\u0001 \t1\n",
      "s \t1\n",
      "responsibilities \t1\n",
      "with \t1\n",
      "regard \t1\n",
      "to \t1\n",
      "global \t1\n",
      "risk \t1\n",
      "management \t1\n",
      "operations \t1\n",
      "will \t1\n",
      "mirror \t1\n",
      "those \t1\n",
      "of \t1\n",
      "other \t1\n",
      "recently \t1\n",
      "created \t1\n",
      "global \t1\n",
      "functions \t1\n",
      "in \t1\n",
      "this \t1\n",
      "role \t1\n",
      "sally \t1\n",
      "will \t1\n",
      "work \t1\n",
      "closely \t1\n",
      "with \t1\n",
      "all \t1\n",
      "geographic \t1\n",
      "regions \t1\n",
      "and \t1\n",
      "wholesale \t1\n",
      "companies \t1\n",
      "to \t1\n",
      "insure \t1\n",
      "that \t1\n",
      "each \t1\n",
      "entity \t1\n",
      "receives \t1\n",
      "individualized \t1\n",
      "regional \t1\n",
      "support \t1\n",
      "while \t1\n",
      "also \t1\n",
      "focusing \t1\n",
      "on \t1\n",
      "the \t1\n",
      "following \t1\n",
      "global \t1\n",
      "responsibilities \t1\n",
      "1 \t1\n",
      "enhance \t1\n",
      "communication \t1\n",
      "among \t1\n",
      "risk \t1\n",
      "management \t1\n",
      "operations \t1\n",
      "professionals \t1\n",
      "2 \t1\n",
      "assure \t1\n",
      "the \t1\n",
      "proliferation \t1\n",
      "of \t1\n",
      "best \t1\n",
      "operational \t1\n",
      "practices \t1\n",
      "around \t1\n",
      "the \t1\n",
      "globe \t1\n",
      "3 \t1\n",
      "facilitate \t1\n",
      "the \t1\n",
      "allocation \t1\n",
      "of \t1\n",
      "human \t1\n",
      "resources \t1\n",
      "4 \t1\n",
      "provide \t1\n",
      "training \t1\n",
      "for \t1\n",
      "risk \t1\n",
      "management \t1\n",
      "operations \t1\n",
      "personnel \t1\n",
      "5 \t1\n",
      "coordinate \t1\n",
      "user \t1\n",
      "requirements \t1\n",
      "for \t1\n",
      "shared \t1\n",
      "operational \t1\n",
      "systems \t1\n",
      "6 \t1\n",
      "oversee \t1\n",
      "the \t1\n",
      "creation \t1\n",
      "of \t1\n",
      "a \t1\n",
      "global \t1\n",
      "internal \t1\n",
      "control \t1\n",
      "audit \t1\n",
      "plan \t1\n",
      "for \t1\n",
      "risk \t1\n",
      "management \t1\n",
      "activities \t1\n",
      "7 \t1\n",
      "establish \t1\n",
      "procedures \t1\n",
      "for \t1\n",
      "opening \t1\n",
      "new \t1\n",
      "risk \t1\n",
      "management \t1\n",
      "operations \t1\n",
      "offices \t1\n",
      "and \t1\n",
      "create \t1\n",
      "key \t1\n",
      "benchmarks \t1\n",
      "for \t1\n",
      "measuring \t1\n",
      "on \t1\n",
      "going \t1\n",
      "risk \t1\n",
      "controls \t1\n",
      "each \t1\n",
      "regional \t1\n",
      "operations \t1\n",
      "team \t1\n",
      "will \t1\n",
      "continue \t1\n",
      "its \t1\n",
      "direct \t1\n",
      "reporting \t1\n",
      "relationship \t1\n",
      "within \t1\n",
      "its \t1\n",
      "business \t1\n",
      "unit \t1\n",
      "and \t1\n",
      "will \t1\n",
      "collaborate \t1\n",
      "with \t1\n",
      "sally \t1\n",
      "in \t1\n",
      "the \t1\n",
      "delivery \t1\n",
      "of \t1\n",
      "these \t1\n",
      "critical \t1\n",
      "items \t1\n",
      "the \t1\n",
      "houston \t1\n",
      "based \t1\n",
      "risk \t1\n",
      "management \t1\n",
      "operations \t1\n",
      "team \t1\n",
      "under \t1\n",
      "sue \t1\n",
      "frusco \t1\n",
      "\u0001 \t1\n",
      "s \t1\n",
      "leadership \t1\n",
      "which \t1\n",
      "currently \t1\n",
      "supports \t1\n",
      "risk \t1\n",
      "management \t1\n",
      "activities \t1\n",
      "for \t1\n",
      "south \t1\n",
      "america \t1\n",
      "and \t1\n",
      "australia \t1\n",
      "will \t1\n",
      "also \t1\n",
      "report \t1\n",
      "directly \t1\n",
      "to \t1\n",
      "sally \t1\n",
      "sally \t1\n",
      "retains \t1\n",
      "her \t1\n",
      "role \t1\n",
      "as \t1\n",
      "vice \t1\n",
      "president \t1\n",
      "of \t1\n",
      "energy \t1\n",
      "operations \t1\n",
      "for \t1\n",
      "north \t1\n",
      "america \t1\n",
      "reporting \t1\n",
      "to \t1\n",
      "the \t1\n",
      "ena \t1\n",
      "office \t1\n",
      "of \t1\n",
      "the \t1\n",
      "chairman \t1\n",
      "she \t1\n",
      "has \t1\n",
      "been \t1\n",
      "in \t1\n",
      "her \t1\n",
      "current \t1\n",
      "role \t1\n",
      "over \t1\n",
      "energy \t1\n",
      "operations \t1\n",
      "since \t1\n",
      "1997 \t1\n",
      "where \t1\n",
      "she \t1\n",
      "manages \t1\n",
      "risk \t1\n",
      "consolidation \t1\n",
      "and \t1\n",
      "reporting \t1\n",
      "risk \t1\n",
      "management \t1\n",
      "administration \t1\n",
      "physical \t1\n",
      "product \t1\n",
      "delivery \t1\n",
      "confirmations \t1\n",
      "and \t1\n",
      "cash \t1\n",
      "management \t1\n",
      "for \t1\n",
      "ena \t1\n",
      "\u0001 \t1\n",
      "s \t1\n",
      "physical \t1\n",
      "commodity \t1\n",
      "trading \t1\n",
      "energy \t1\n",
      "derivatives \t1\n",
      "trading \t1\n",
      "and \t1\n",
      "financial \t1\n",
      "products \t1\n",
      "trading \t1\n",
      "sally \t1\n",
      "has \t1\n",
      "been \t1\n",
      "with \t1\n",
      "since \t1\n",
      "1992 \t1\n",
      "when \t1\n",
      "she \t1\n",
      "joined \t1\n",
      "the \t1\n",
      "company \t1\n",
      "as \t1\n",
      "a \t1\n",
      "manager \t1\n",
      "in \t1\n",
      "global \t1\n",
      "credit \t1\n",
      "prior \t1\n",
      "to \t1\n",
      "joining \t1\n",
      "sally \t1\n",
      "had \t1\n",
      "four \t1\n",
      "years \t1\n",
      "experience \t1\n",
      "as \t1\n",
      "a \t1\n",
      "commercial \t1\n",
      "banker \t1\n",
      "and \t1\n",
      "spent \t1\n",
      "seven \t1\n",
      "years \t1\n",
      "as \t1\n",
      "a \t1\n",
      "registered \t1\n",
      "securities \t1\n",
      "principal \t1\n",
      "with \t1\n",
      "a \t1\n",
      "regional \t1\n",
      "investment \t1\n",
      "banking \t1\n",
      "firm \t1\n",
      "she \t1\n",
      "also \t1\n",
      "owned \t1\n",
      "and \t1\n",
      "managed \t1\n",
      "a \t1\n",
      "retail \t1\n",
      "business \t1\n",
      "for \t1\n",
      "several \t1\n",
      "years \t1\n",
      "please \t1\n",
      "join \t1\n",
      "me \t1\n",
      "in \t1\n",
      "supporting \t1\n",
      "sally \t1\n",
      "in \t1\n",
      "this \t1\n",
      "additional \t1\n",
      "coordination \t1\n",
      "role \t1\n",
      "for \t1\n",
      "global \t1\n",
      "risk \t1\n",
      "management \t1\n",
      "operations \t1\n",
      " \t1\n"
     ]
    }
   ],
   "source": [
    "import sys, re, string\n",
    "# define regex for punctuation removal\n",
    "\n",
    "#return alphanumeric tokens\n",
    "def alphaNumericWordTokenizer(line):\n",
    "    #preprocess the string; \n",
    "    #  focus on alphanumeric token\n",
    "    #  replace repeating spaces/tab with a single space\n",
    "    regex = re.compile('[%s]' % re.escape(string.punctuation))\n",
    "    #replace each punctuation character with a space\n",
    "    line = regex.sub(' ', line.lower())  \n",
    "\n",
    "    #replace multiple spacees with a single space\n",
    "    line = re.sub( '\\s+', ' ', line) \n",
    "    # split the line into words\n",
    "    words = line.split(\" \")\n",
    "    return(words)\n",
    "            \n",
    "\n",
    "line = \"\"\" 0017.2000-01-17.beck\t0\t global risk management operations\t\" congratulations, sally!!!  kk  ----------------------forwarded by kathy kokas/corp/enron on 01/17/2000  08:08 pm---------------------------  from: rick causey 01/17/2000 06:04 pm  sent by: enron announcements  to: all enron worldwide  cc:  subject: global risk management operations  recognizing enron \u0001, s increasing worldwide presence in the wholesale energy  business and the need to insure outstanding internal controls for all of our  risk management activities, regardless of location, a global risk management  operations function has been created under the direction of sally w. beck,  vice president. in this role, sally will report to rick causey, executive  vice president and chief accounting officer.  sally \u0001, s responsibilities with regard to global risk management operations  will mirror those of other recently created enron global functions. in this  role, sally will work closely with all enron geographic regions and wholesale  companies to insure that each entity receives individualized regional support  while also focusing on the following global responsibilities:  1. enhance communication among risk management operations professionals.  2. assure the proliferation of best operational practices around the globe.  3. facilitate the allocation of human resources.  4. provide training for risk management operations personnel.  5. coordinate user requirements for shared operational systems.  6. oversee the creation of a global internal control audit plan for risk  management activities.  7. establish procedures for opening new risk management operations offices  and create key benchmarks for measuring on-going risk controls.  each regional operations team will continue its direct reporting relationship  within its business unit, and will collaborate with sally in the delivery of  these critical items. the houston-based risk management operations team under  sue frusco \u0001, s leadership, which currently supports risk management activities  for south america and australia, will also report directly to sally.  sally retains her role as vice president of energy operations for enron  north america, reporting to the ena office of the chairman. she has been in  her current role over energy operations since 1997, where she manages risk  consolidation and reporting, risk management administration, physical product  delivery, confirmations and cash management for ena \u0001, s physical commodity  trading, energy derivatives trading and financial products trading.  sally has been with enron since 1992, when she joined the company as a  manager in global credit. prior to joining enron, sally had four years  experience as a commercial banker and spent seven years as a registered  securities principal with a regional investment banking firm. she also owned  and managed a retail business for several years.  please join me in supporting sally in this additional coordination role for  global risk management operations.\"\"\"\n",
    "words = alphaNumericWordTokenizer(line)\n",
    "for w in words: \n",
    "    if w not in [\"enron\"]:  #skip the \"enron\" token \n",
    "        print w, \"\\t\", 1 #or yield(w, 1)"
   ]
  },
  {
   "cell_type": "markdown",
   "metadata": {},
   "source": [
    "__ NOTE: We still get funky characters in the output__"
   ]
  },
  {
   "cell_type": "raw",
   "metadata": {},
   "source": [
    "recognizing \t1\n",
    "0 \t1\n",
    "global \t1\n",
    "\u0001 \t1    #example of a funky character"
   ]
  },
  {
   "cell_type": "code",
   "execution_count": 61,
   "metadata": {
    "collapsed": false
   },
   "outputs": [
    {
     "data": {
      "text/plain": [
       "['beck',\n",
       " 'global',\n",
       " 'risk',\n",
       " 'management',\n",
       " 'operations',\n",
       " 'congratulations',\n",
       " 'sally',\n",
       " 'kk',\n",
       " 'forwarded',\n",
       " 'by',\n",
       " 'kathy',\n",
       " 'kokas',\n",
       " 'corp',\n",
       " 'enron',\n",
       " 'on',\n",
       " 'pm',\n",
       " 'from',\n",
       " 'rick',\n",
       " 'causey',\n",
       " 'pm',\n",
       " 'sent',\n",
       " 'by',\n",
       " 'enron',\n",
       " 'announcements',\n",
       " 'to',\n",
       " 'all',\n",
       " 'enron',\n",
       " 'worldwide',\n",
       " 'cc',\n",
       " 'subject',\n",
       " 'global',\n",
       " 'risk',\n",
       " 'management',\n",
       " 'operations',\n",
       " 'recognizing',\n",
       " 'enron',\n",
       " 's',\n",
       " 'increasing',\n",
       " 'worldwide',\n",
       " 'presence',\n",
       " 'in',\n",
       " 'the',\n",
       " 'wholesale',\n",
       " 'energy',\n",
       " 'business',\n",
       " 'and',\n",
       " 'the',\n",
       " 'need',\n",
       " 'to',\n",
       " 'insure',\n",
       " 'outstanding',\n",
       " 'internal',\n",
       " 'controls',\n",
       " 'for',\n",
       " 'all',\n",
       " 'of',\n",
       " 'our',\n",
       " 'risk',\n",
       " 'management',\n",
       " 'activities',\n",
       " 'regardless',\n",
       " 'of',\n",
       " 'location',\n",
       " 'a',\n",
       " 'global',\n",
       " 'risk',\n",
       " 'management',\n",
       " 'operations',\n",
       " 'function',\n",
       " 'has',\n",
       " 'been',\n",
       " 'created',\n",
       " 'under',\n",
       " 'the',\n",
       " 'direction',\n",
       " 'of',\n",
       " 'sally',\n",
       " 'w',\n",
       " 'beck',\n",
       " 'vice',\n",
       " 'president',\n",
       " 'in',\n",
       " 'this',\n",
       " 'role',\n",
       " 'sally',\n",
       " 'will',\n",
       " 'report',\n",
       " 'to',\n",
       " 'rick',\n",
       " 'causey',\n",
       " 'executive',\n",
       " 'vice',\n",
       " 'president',\n",
       " 'and',\n",
       " 'chief',\n",
       " 'accounting',\n",
       " 'officer',\n",
       " 'sally',\n",
       " 's',\n",
       " 'responsibilities',\n",
       " 'with',\n",
       " 'regard',\n",
       " 'to',\n",
       " 'global',\n",
       " 'risk',\n",
       " 'management',\n",
       " 'operations',\n",
       " 'will',\n",
       " 'mirror',\n",
       " 'those',\n",
       " 'of',\n",
       " 'other',\n",
       " 'recently',\n",
       " 'created',\n",
       " 'enron',\n",
       " 'global',\n",
       " 'functions',\n",
       " 'in',\n",
       " 'this',\n",
       " 'role',\n",
       " 'sally',\n",
       " 'will',\n",
       " 'work',\n",
       " 'closely',\n",
       " 'with',\n",
       " 'all',\n",
       " 'enron',\n",
       " 'geographic',\n",
       " 'regions',\n",
       " 'and',\n",
       " 'wholesale',\n",
       " 'companies',\n",
       " 'to',\n",
       " 'insure',\n",
       " 'that',\n",
       " 'each',\n",
       " 'entity',\n",
       " 'receives',\n",
       " 'individualized',\n",
       " 'regional',\n",
       " 'support',\n",
       " 'while',\n",
       " 'also',\n",
       " 'focusing',\n",
       " 'on',\n",
       " 'the',\n",
       " 'following',\n",
       " 'global',\n",
       " 'responsibilities',\n",
       " 'enhance',\n",
       " 'communication',\n",
       " 'among',\n",
       " 'risk',\n",
       " 'management',\n",
       " 'operations',\n",
       " 'professionals',\n",
       " 'assure',\n",
       " 'the',\n",
       " 'proliferation',\n",
       " 'of',\n",
       " 'best',\n",
       " 'operational',\n",
       " 'practices',\n",
       " 'around',\n",
       " 'the',\n",
       " 'globe',\n",
       " 'facilitate',\n",
       " 'the',\n",
       " 'allocation',\n",
       " 'of',\n",
       " 'human',\n",
       " 'resources',\n",
       " 'provide',\n",
       " 'training',\n",
       " 'for',\n",
       " 'risk',\n",
       " 'management',\n",
       " 'operations',\n",
       " 'personnel',\n",
       " 'coordinate',\n",
       " 'user',\n",
       " 'requirements',\n",
       " 'for',\n",
       " 'shared',\n",
       " 'operational',\n",
       " 'systems',\n",
       " 'oversee',\n",
       " 'the',\n",
       " 'creation',\n",
       " 'of',\n",
       " 'a',\n",
       " 'global',\n",
       " 'internal',\n",
       " 'control',\n",
       " 'audit',\n",
       " 'plan',\n",
       " 'for',\n",
       " 'risk',\n",
       " 'management',\n",
       " 'activities',\n",
       " 'establish',\n",
       " 'procedures',\n",
       " 'for',\n",
       " 'opening',\n",
       " 'new',\n",
       " 'risk',\n",
       " 'management',\n",
       " 'operations',\n",
       " 'offices',\n",
       " 'and',\n",
       " 'create',\n",
       " 'key',\n",
       " 'benchmarks',\n",
       " 'for',\n",
       " 'measuring',\n",
       " 'on',\n",
       " 'going',\n",
       " 'risk',\n",
       " 'controls',\n",
       " 'each',\n",
       " 'regional',\n",
       " 'operations',\n",
       " 'team',\n",
       " 'will',\n",
       " 'continue',\n",
       " 'its',\n",
       " 'direct',\n",
       " 'reporting',\n",
       " 'relationship',\n",
       " 'within',\n",
       " 'its',\n",
       " 'business',\n",
       " 'unit',\n",
       " 'and',\n",
       " 'will',\n",
       " 'collaborate',\n",
       " 'with',\n",
       " 'sally',\n",
       " 'in',\n",
       " 'the',\n",
       " 'delivery',\n",
       " 'of',\n",
       " 'these',\n",
       " 'critical',\n",
       " 'items',\n",
       " 'the',\n",
       " 'houston',\n",
       " 'based',\n",
       " 'risk',\n",
       " 'management',\n",
       " 'operations',\n",
       " 'team',\n",
       " 'under',\n",
       " 'sue',\n",
       " 'frusco',\n",
       " 's',\n",
       " 'leadership',\n",
       " 'which',\n",
       " 'currently',\n",
       " 'supports',\n",
       " 'risk',\n",
       " 'management',\n",
       " 'activities',\n",
       " 'for',\n",
       " 'south',\n",
       " 'america',\n",
       " 'and',\n",
       " 'australia',\n",
       " 'will',\n",
       " 'also',\n",
       " 'report',\n",
       " 'directly',\n",
       " 'to',\n",
       " 'sally',\n",
       " 'sally',\n",
       " 'retains',\n",
       " 'her',\n",
       " 'role',\n",
       " 'as',\n",
       " 'vice',\n",
       " 'president',\n",
       " 'of',\n",
       " 'energy',\n",
       " 'operations',\n",
       " 'for',\n",
       " 'enron',\n",
       " 'north',\n",
       " 'america',\n",
       " 'reporting',\n",
       " 'to',\n",
       " 'the',\n",
       " 'ena',\n",
       " 'office',\n",
       " 'of',\n",
       " 'the',\n",
       " 'chairman',\n",
       " 'she',\n",
       " 'has',\n",
       " 'been',\n",
       " 'in',\n",
       " 'her',\n",
       " 'current',\n",
       " 'role',\n",
       " 'over',\n",
       " 'energy',\n",
       " 'operations',\n",
       " 'since',\n",
       " 'where',\n",
       " 'she',\n",
       " 'manages',\n",
       " 'risk',\n",
       " 'consolidation',\n",
       " 'and',\n",
       " 'reporting',\n",
       " 'risk',\n",
       " 'management',\n",
       " 'administration',\n",
       " 'physical',\n",
       " 'product',\n",
       " 'delivery',\n",
       " 'confirmations',\n",
       " 'and',\n",
       " 'cash',\n",
       " 'management',\n",
       " 'for',\n",
       " 'ena',\n",
       " 's',\n",
       " 'physical',\n",
       " 'commodity',\n",
       " 'trading',\n",
       " 'energy',\n",
       " 'derivatives',\n",
       " 'trading',\n",
       " 'and',\n",
       " 'financial',\n",
       " 'products',\n",
       " 'trading',\n",
       " 'sally',\n",
       " 'has',\n",
       " 'been',\n",
       " 'with',\n",
       " 'enron',\n",
       " 'since',\n",
       " 'when',\n",
       " 'she',\n",
       " 'joined',\n",
       " 'the',\n",
       " 'company',\n",
       " 'as',\n",
       " 'a',\n",
       " 'manager',\n",
       " 'in',\n",
       " 'global',\n",
       " 'credit',\n",
       " 'prior',\n",
       " 'to',\n",
       " 'joining',\n",
       " 'enron',\n",
       " 'sally',\n",
       " 'had',\n",
       " 'four',\n",
       " 'years',\n",
       " 'experience',\n",
       " 'as',\n",
       " 'a',\n",
       " 'commercial',\n",
       " 'banker',\n",
       " 'and',\n",
       " 'spent',\n",
       " 'seven',\n",
       " 'years',\n",
       " 'as',\n",
       " 'a',\n",
       " 'registered',\n",
       " 'securities',\n",
       " 'principal',\n",
       " 'with',\n",
       " 'a',\n",
       " 'regional',\n",
       " 'investment',\n",
       " 'banking',\n",
       " 'firm',\n",
       " 'she',\n",
       " 'also',\n",
       " 'owned',\n",
       " 'and',\n",
       " 'managed',\n",
       " 'a',\n",
       " 'retail',\n",
       " 'business',\n",
       " 'for',\n",
       " 'several',\n",
       " 'years',\n",
       " 'please',\n",
       " 'join',\n",
       " 'me',\n",
       " 'in',\n",
       " 'supporting',\n",
       " 'sally',\n",
       " 'in',\n",
       " 'this',\n",
       " 'additional',\n",
       " 'coordination',\n",
       " 'role',\n",
       " 'for',\n",
       " 'global',\n",
       " 'risk',\n",
       " 'management',\n",
       " 'operations']"
      ]
     },
     "execution_count": 61,
     "metadata": {},
     "output_type": "execute_result"
    }
   ],
   "source": [
    "# if we just want words then this will work\n",
    "re.findall(r'[a-z]+', line.lower())"
   ]
  },
  {
   "cell_type": "markdown",
   "metadata": {},
   "source": [
    "## 3.  HW1.4  <a name=\"1.4\"></a>\n",
    "[Back to Table of Contents](#TOC)\n",
    "\n",
    "What is the longest word in Alice in Wonderland? How many characters does it have?"
   ]
  },
  {
   "cell_type": "code",
   "execution_count": 139,
   "metadata": {
    "collapsed": false
   },
   "outputs": [
    {
     "name": "stdout",
     "output_type": "stream",
     "text": [
      "15 3\n",
      "12 2\n",
      "13 1\n",
      "hello 1\n"
     ]
    }
   ],
   "source": [
    "d = defaultdict(int)\n",
    "for w in \"hello 15 15 12 12 13 15\".split():\n",
    "    d[w] += 1\n",
    "for w in sorted(d, key=d.get, reverse=True):\n",
    "    print w, d[w]\n"
   ]
  },
  {
   "cell_type": "code",
   "execution_count": null,
   "metadata": {
    "collapsed": true
   },
   "outputs": [],
   "source": []
  }
 ],
 "metadata": {
  "anaconda-cloud": {},
  "kernelspec": {
   "display_name": "Python [default]",
   "language": "python",
   "name": "python2"
  },
  "language_info": {
   "codemirror_mode": {
    "name": "ipython",
    "version": 2
   },
   "file_extension": ".py",
   "mimetype": "text/x-python",
   "name": "python",
   "nbconvert_exporter": "python",
   "pygments_lexer": "ipython2",
   "version": "2.7.12"
  }
 },
 "nbformat": 4,
 "nbformat_minor": 0
}
