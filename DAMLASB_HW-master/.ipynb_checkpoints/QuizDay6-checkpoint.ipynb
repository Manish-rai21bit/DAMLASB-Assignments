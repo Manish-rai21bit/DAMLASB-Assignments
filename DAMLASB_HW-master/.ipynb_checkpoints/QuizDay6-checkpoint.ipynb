{
 "cells": [
  {
   "cell_type": "code",
   "execution_count": 4,
   "metadata": {
    "collapsed": false
   },
   "outputs": [
    {
     "name": "stdout",
     "output_type": "stream",
     "text": [
      "Writing wordcount.txt\n"
     ]
    }
   ],
   "source": [
    "%%writefile wordcount.txt\n",
    "hello hi hi hallo\n",
    "bonjour hola hi ciao\n",
    "nihao konnichiwa ola\n",
    "hola nihao hello"
   ]
  },
  {
   "cell_type": "code",
   "execution_count": 5,
   "metadata": {
    "collapsed": false
   },
   "outputs": [
    {
     "name": "stdout",
     "output_type": "stream",
     "text": [
      "hello hi hi hallo\r\n",
      "bonjour hola hi ciao\r\n",
      "nihao konnichiwa ola\r\n",
      "hola nihao hello"
     ]
    }
   ],
   "source": [
    "cat wordcount.txt"
   ]
  },
  {
   "cell_type": "code",
   "execution_count": 6,
   "metadata": {
    "collapsed": false
   },
   "outputs": [
    {
     "data": {
      "text/plain": [
       "'w'"
      ]
     },
     "execution_count": 6,
     "metadata": {},
     "output_type": "execute_result"
    }
   ],
   "source": [
    "rdd = sc.parallelize('wordcount.txt')  #distributes the string\n",
    "rdd.first()\n",
    "# returns 'w'   Why? This code distributes the string and not the file.\n",
    "#rdd.count() "
   ]
  },
  {
   "cell_type": "code",
   "execution_count": 7,
   "metadata": {
    "collapsed": false
   },
   "outputs": [
    {
     "data": {
      "text/plain": [
       "4"
      ]
     },
     "execution_count": 7,
     "metadata": {},
     "output_type": "execute_result"
    }
   ],
   "source": [
    "rdd = sc.textFile('wordcount.txt')  #create an RDD\n",
    "rdd.count()"
   ]
  },
  {
   "cell_type": "code",
   "execution_count": 8,
   "metadata": {
    "collapsed": false
   },
   "outputs": [
    {
     "data": {
      "text/plain": [
       "<pyspark.context.SparkContext at 0x10b98af10>"
      ]
     },
     "execution_count": 8,
     "metadata": {},
     "output_type": "execute_result"
    }
   ],
   "source": [
    "sc"
   ]
  },
  {
   "cell_type": "code",
   "execution_count": 9,
   "metadata": {
    "collapsed": false
   },
   "outputs": [
    {
     "data": {
      "text/plain": [
       "u'hello hi hi hallo'"
      ]
     },
     "execution_count": 9,
     "metadata": {},
     "output_type": "execute_result"
    }
   ],
   "source": [
    "rdd.first()"
   ]
  },
  {
   "cell_type": "code",
   "execution_count": 10,
   "metadata": {
    "collapsed": false
   },
   "outputs": [
    {
     "name": "stdout",
     "output_type": "stream",
     "text": [
      "(u'ciao', 1)\n",
      "(u'bonjour', 1)\n",
      "(u'nihao', 2)\n",
      "(u'hola', 2)\n",
      "(u'konnichiwa', 1)\n",
      "(u'hallo', 1)\n",
      "(u'hi', 3)\n",
      "(u'hello', 2)\n",
      "(u'ola', 1)\n"
     ]
    }
   ],
   "source": [
    "#Count words in file/directory\n",
    "logFileNAME = 'wordcount.txt'\n",
    "text_file = sc.textFile(logFileNAME)\n",
    "counts = text_file.flatMap(lambda line: line.split(\" \")) \\\n",
    "             .map(lambda word: (word, 1)) \\\n",
    "             .reduceByKey(lambda a, b: a + b)\n",
    "wordCounts = counts.collect()\n",
    "for v in counts.collect():\n",
    "    print v"
   ]
  },
  {
   "cell_type": "code",
   "execution_count": 11,
   "metadata": {
    "collapsed": false
   },
   "outputs": [
    {
     "name": "stdout",
     "output_type": "stream",
     "text": [
      "[(u'ciao', 1), (u'bonjour', 1), (u'nihao', 2), (u'hola', 2), (u'konnichiwa', 1), (u'hallo', 1), (u'hi', 3), (u'hello', 2), (u'ola', 1)]\n"
     ]
    }
   ],
   "source": [
    "print wordCounts"
   ]
  },
  {
   "cell_type": "code",
   "execution_count": 12,
   "metadata": {
    "collapsed": false
   },
   "outputs": [
    {
     "data": {
      "image/png": "[encoded data removed]",
      "text/plain": [
       "<matplotlib.figure.Figure at 0x10be08d10>"
      ]
     },
     "metadata": {},
     "output_type": "display_data"
    }
   ],
   "source": [
    "import numpy as np\n",
    "import matplotlib.pyplot as plt\n",
    "from sklearn import linear_model\n",
    "%matplotlib inline\n",
    "\n",
    "# this is general purpose code to produce a barplot from a list like\n",
    "# See Unit test below for an example use case\n",
    "\n",
    "def myBarPlot(dimensionMeasureList, measureStr):\n",
    "    \"\"\"\n",
    "    Show a bar chart of the total measure per item\n",
    "    \"\"\"\n",
    "    items = [d[0] for d in dimensionMeasureList]\n",
    "    minutes  = [d[1] for d in dimensionMeasureList]\n",
    "    index    = list(xrange(len(items)))\n",
    "\n",
    "    fig, axe = plt.subplots()\n",
    "    bars = axe.barh(index, minutes)\n",
    "\n",
    "    # Add the total measure (e.g., wordcount) to the right\n",
    "    for idx, air, min in zip(index, items, minutes):\n",
    "        if min > 0:\n",
    "            bars[idx].set_color('#d9230f')\n",
    "            axe.annotate(\" %0.0f\" % min, xy=(min+1, idx+0.5), va='center')\n",
    "        else:\n",
    "            bars[idx].set_color('#469408')\n",
    "            axe.annotate(\" %0.0f\" % min, xy=(10, idx+0.5), va='center')\n",
    "\n",
    "    # Set the ticks\n",
    "    ticks = plt.yticks([idx+ 0.5 for idx in index], items)\n",
    "    xt = plt.xticks()[0]\n",
    "    plt.xticks(xt, [' '] * len(xt))\n",
    "\n",
    "    #minimize chartjunk\n",
    "    plt.grid(axis = 'x', color ='white', linestyle='-')\n",
    "\n",
    "    plt.title(measureStr)\n",
    "    plt.show()\n",
    "\n",
    "\n",
    "#  Unit test for myBarPlot\n",
    "myBarPlot([(u'hallo', 5), (u'konnichiwa', 4), (u'ola', 3), (u'ciao', 3), (u'bonjour', 1)][3:] , \n",
    "          \"frequency of words\")"
   ]
  },
  {
   "cell_type": "code",
   "execution_count": 13,
   "metadata": {
    "collapsed": false
   },
   "outputs": [
    {
     "data": {
      "image/png": "[encoded data removed]",
      "text/plain": [
       "<matplotlib.figure.Figure at 0x10f1c9550>"
      ]
     },
     "metadata": {},
     "output_type": "display_data"
    }
   ],
   "source": [
    "import numpy as np\n",
    "import matplotlib.pyplot as plt\n",
    "from sklearn import linear_model\n",
    "%matplotlib inline\n",
    "\n",
    "# this is general purpose code to produce a barplot from a list like\n",
    "# wordCounts = [(u'hallo', 1),\n",
    "#  (u'konnichiwa', 1),\n",
    "#  (u'ola', 1),\n",
    "#  (u'ciao', 1),\n",
    "#  (u'bonjour', 1),\n",
    "#  (u'nihao', 2),\n",
    "#  (u'hello', 2),\n",
    "#  (u'hola', 2),\n",
    "#  (u'hi', 3)]\n",
    "#  to Call use \n",
    "#   plot(wordCounts[:10], \"frequency of words\")\n",
    "\n",
    "def plot(delays, measureStr):\n",
    "    \"\"\"\n",
    "    Show a bar chart of the total delay per airline\n",
    "    \"\"\"\n",
    "    airlines = [d[0] for d in delays]\n",
    "    measures  = [d[1] for d in delays]\n",
    "    index    = list(xrange(len(airlines)))\n",
    "\n",
    "    fig, axe = plt.subplots()\n",
    "    bars = axe.barh(index, measures)\n",
    "\n",
    "    # Add the total minutes to the right\n",
    "    for idx, air, min in zip(index, airlines, measures):\n",
    "        if min > 0:\n",
    "            bars[idx].set_color('#d9230f')\n",
    "            axe.annotate(\" %0.0f\" % min, xy=(min+1, idx+0.5), va='center')\n",
    "        else:\n",
    "            bars[idx].set_color('#469408')\n",
    "            axe.annotate(\" %0.0f\" % min, xy=(10, idx+0.5), va='center')\n",
    "\n",
    "    # Set the ticks\n",
    "    ticks = plt.yticks([idx+ 0.5 for idx in index], airlines)\n",
    "    xt = plt.xticks()[0]\n",
    "    plt.xticks(xt, [' '] * len(xt))\n",
    "\n",
    "    #minimize chartjunk\n",
    "    plt.grid(axis = 'x', color ='white', linestyle='-')\n",
    "\n",
    "    plt.title(measureStr)\n",
    "    plt.show()\n",
    "\n",
    "\n",
    "#  E.g., Call\n",
    "plot(wordCounts[:10], \"frequency of words\")"
   ]
  },
  {
   "cell_type": "code",
   "execution_count": null,
   "metadata": {
    "collapsed": true
   },
   "outputs": [],
   "source": []
  },
  {
   "cell_type": "code",
   "execution_count": 16,
   "metadata": {
    "collapsed": false
   },
   "outputs": [
    {
     "name": "stdout",
     "output_type": "stream",
     "text": [
      "(u'hi', 3)\n",
      "(u'nihao', 2)\n",
      "(u'hello', 2)\n",
      "(u'hola', 2)\n",
      "(u'hallo', 1)\n",
      "(u'konnichiwa', 1)\n",
      "(u'ola', 1)\n",
      "(u'ciao', 1)\n",
      "(u'bonjour', 1)\n"
     ]
    },
    {
     "data": {
      "image/png": "[encoded data removed]",
      "text/plain": [
       "<matplotlib.figure.Figure at 0x10bba87d0>"
      ]
     },
     "metadata": {},
     "output_type": "display_data"
    }
   ],
   "source": [
    "#modify the code to sort the word count records in decreasing order of frequency and plot\n",
    "\n",
    "text_file = sc.textFile('wordcount.txt')\n",
    "counts = text_file.flatMap(lambda line: line.split(\" \")) \\\n",
    "    .map(lambda word: (word, 1)) \\\n",
    "    .reduceByKey(lambda a, b: a + b, 1) \\\n",
    "    .sortBy(lambda x: x[1], ascending = False)\n",
    "     \n",
    "wordCounts = counts.collect()\n",
    "\n",
    "for v in wordCounts:\n",
    "    print v\n",
    "\n",
    "myBarPlot(wordCounts[:10], \"frequency of words\")"
   ]
  },
  {
   "cell_type": "markdown",
   "metadata": {
    "collapsed": true
   },
   "source": [
    "### Quiz Compute the number of primes in the RDD"
   ]
  },
  {
   "cell_type": "code",
   "execution_count": 29,
   "metadata": {
    "collapsed": false
   },
   "outputs": [
    {
     "data": {
      "text/plain": [
       "[(False, 4), (True, 1)]"
      ]
     },
     "execution_count": 29,
     "metadata": {},
     "output_type": "execute_result"
    }
   ],
   "source": [
    "def isprime(n):\n",
    "    \"\"\"\n",
    "    check if integer n is a prime\n",
    "    \"\"\"\n",
    "    # make sure n is a positive integer\n",
    "    n = abs(int(n))\n",
    "    # 0 and 1 are not primes\n",
    "    if n < 2:\n",
    "        return False\n",
    "    # 2 is the only even prime number\n",
    "    if n == 2:\n",
    "        return True\n",
    "    # all other even numbers are not primes\n",
    "    if not n & 1:\n",
    "        return False\n",
    "    # range starts with 3 and only needs to go up the square root of n\n",
    "    # for all odd numbers\n",
    "    for x in range(3, int(n**0.5)+1, 2):\n",
    "        if n % x == 0:\n",
    "            return False\n",
    "    return True\n",
    "\n",
    "# Create an RDD of numbers from 0 to 1,000,000\n",
    "\n",
    "rdd1=sc.parallelize([0,10,35,3500, 5]).collect()\n",
    "rdd1\n",
    "\n",
    "# Compute the number of primes in the RDD\n",
    "prime=sc.parallelize([0,10,35,3500, 5]).map(lambda x: isprime(x)).map(lambda x:(x,1)).reduceByKey(lambda a, b: a + b, 1)\n",
    "prime.collect()"
   ]
  },
  {
   "cell_type": "markdown",
   "metadata": {},
   "source": [
    "### Analysis of web server logs with Spark"
   ]
  },
  {
   "cell_type": "code",
   "execution_count": 44,
   "metadata": {
    "collapsed": false
   },
   "outputs": [
    {
     "name": "stdout",
     "output_type": "stream",
     "text": [
      "2015-12-10T13:36:47|86.88.135.133|FR|SUCCESS\r\n",
      "2015-12-10T13:36:47|25.53.251.132|FR|SUCCESS\r\n",
      "2015-12-10T13:36:47|224.251.26.196|FR|SUCCESS\r\n",
      "2015-12-10T13:36:47|72.96.92.96|FR|SUCCESS\r\n",
      "2015-12-10T13:36:47|93.159.208.231|FR|SUCCESS\r\n",
      "2015-12-10T13:36:47|200.85.209.180|FR|SUCCESS\r\n",
      "2015-12-10T13:36:47|117.35.65.164|FR|SUCCESS\r\n",
      "2015-12-10T13:36:47|164.86.143.136|FR|SUCCESS\r\n",
      "2015-12-10T13:36:47|56.160.244.16|FR|SUCCESS\r\n",
      "2015-12-10T13:36:47|205.111.122.245|FR|SUCCESS\r\n"
     ]
    }
   ],
   "source": [
    "!head example.log "
   ]
  },
  {
   "cell_type": "code",
   "execution_count": null,
   "metadata": {
    "collapsed": true
   },
   "outputs": [],
   "source": []
  }
 ],
 "metadata": {
  "kernelspec": {
   "display_name": "Python 2",
   "language": "python",
   "name": "python2"
  },
  "language_info": {
   "codemirror_mode": {
    "name": "ipython",
    "version": 2
   },
   "file_extension": ".py",
   "mimetype": "text/x-python",
   "name": "python",
   "nbconvert_exporter": "python",
   "pygments_lexer": "ipython2",
   "version": "2.7.12"
  }
 },
 "nbformat": 4,
 "nbformat_minor": 1
}
