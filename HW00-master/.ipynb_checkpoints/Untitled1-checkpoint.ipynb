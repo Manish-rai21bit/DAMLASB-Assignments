{
 "cells": [
  {
   "cell_type": "markdown",
   "metadata": {},
   "source": [
    "# 1. Write a program that reads a string and returns a table of the letters of the alphabet in \n",
    "#    alphabetical order which occur in the string together with the number of times each letter occurs. \n",
    "#    Case should be ignored. "
   ]
  },
  {
   "cell_type": "code",
   "execution_count": 1,
   "metadata": {
    "collapsed": false
   },
   "outputs": [
    {
     "name": "stdout",
     "output_type": "stream",
     "text": [
      "(' ', 8)\n",
      "('a', 2)\n",
      "('c', 1)\n",
      "('d', 1)\n",
      "('e', 5)\n",
      "('g', 1)\n",
      "('h', 2)\n",
      "('i', 4)\n",
      "('l', 2)\n",
      "('n', 2)\n",
      "('o', 1)\n",
      "('p', 2)\n",
      "('r', 4)\n",
      "('s', 5)\n",
      "('t', 5)\n",
      "('u', 1)\n",
      "('w', 2)\n"
     ]
    }
   ],
   "source": [
    "sentence = 'ThiS is String with Upper and lower case Letters'\n",
    "sentence = sentence.lower()\n",
    "\n",
    "counts = {}\n",
    "for char in sentence:\n",
    "    if char not in counts:\n",
    "        counts[char]=1\n",
    "    else:\n",
    "        counts[char] = counts[char] + 1\n",
    "counts = sorted(counts.items())\n",
    "    \n",
    "for i in counts:\n",
    "    print(i[0],i[1])"
   ]
  },
  {
   "cell_type": "code",
   "execution_count": 2,
   "metadata": {
    "collapsed": true
   },
   "outputs": [],
   "source": [
    "# 2. Give the Python interpreter’s response to each of the following from a continuous interpreter session:"
   ]
  },
  {
   "cell_type": "code",
   "execution_count": 3,
   "metadata": {
    "collapsed": true
   },
   "outputs": [],
   "source": [
    "def add_fruit(inventory, fruit, quantity=0):\n",
    "    if fruit not in inventory:\n",
    "        inventory[fruit]=quantity\n",
    "    else:\n",
    "        inventory[fruit]+=quantity\n",
    "    print inventory"
   ]
  },
  {
   "cell_type": "code",
   "execution_count": 4,
   "metadata": {
    "collapsed": false
   },
   "outputs": [
    {
     "name": "stdout",
     "output_type": "stream",
     "text": [
      "{'strawberries': 10}\n"
     ]
    }
   ],
   "source": [
    "# Make these tests work...\n",
    "new_inventory = {}\n",
    "add_fruit(new_inventory, \"strawberries\", 10)"
   ]
  },
  {
   "cell_type": "code",
   "execution_count": 5,
   "metadata": {
    "collapsed": false
   },
   "outputs": [
    {
     "data": {
      "text/plain": [
       "True"
      ]
     },
     "execution_count": 5,
     "metadata": {},
     "output_type": "execute_result"
    }
   ],
   "source": [
    "\"strawberries\" in new_inventory"
   ]
  },
  {
   "cell_type": "code",
   "execution_count": 6,
   "metadata": {
    "collapsed": false
   },
   "outputs": [
    {
     "data": {
      "text/plain": [
       "True"
      ]
     },
     "execution_count": 6,
     "metadata": {},
     "output_type": "execute_result"
    }
   ],
   "source": [
    "new_inventory[\"strawberries\"] == 10"
   ]
  },
  {
   "cell_type": "code",
   "execution_count": 7,
   "metadata": {
    "collapsed": false
   },
   "outputs": [
    {
     "data": {
      "text/plain": [
       "({'strawberries': 10}, 'strawberries', 25)"
      ]
     },
     "execution_count": 7,
     "metadata": {},
     "output_type": "execute_result"
    }
   ],
   "source": [
    "new_inventory, \"strawberries\", 25"
   ]
  },
  {
   "cell_type": "code",
   "execution_count": 8,
   "metadata": {
    "collapsed": false
   },
   "outputs": [
    {
     "data": {
      "text/plain": [
       "False"
      ]
     },
     "execution_count": 8,
     "metadata": {},
     "output_type": "execute_result"
    }
   ],
   "source": [
    "new_inventory[\"strawberries\"] == 35"
   ]
  },
  {
   "cell_type": "code",
   "execution_count": 9,
   "metadata": {
    "collapsed": true
   },
   "outputs": [],
   "source": [
    "#3. Write a program called alice_words.py that creates a text file named alice_words.txt \n",
    "#   containing an alphabetical listing of all the words, and the number of times each occurs, \n",
    "#   in the text version of Alice’s Adventures in Wonderland. "
   ]
  },
  {
   "cell_type": "code",
   "execution_count": 10,
   "metadata": {
    "collapsed": true
   },
   "outputs": [],
   "source": [
    "#!/usr/bin/python\n",
    "file=open(\"alice.txt\",\"r+\")\n",
    "#dictionary to hold the words and their corresponding frequency\n",
    "wordcount={} \n",
    "for word in file.read().split():\n",
    "    if word not in wordcount:\n",
    "        wordcount[word] = 1\n",
    "    else:\n",
    "        wordcount[word] += 1   "
   ]
  },
  {
   "cell_type": "code",
   "execution_count": 11,
   "metadata": {
    "collapsed": true
   },
   "outputs": [],
   "source": [
    "#4. What is the longest word in Alice in Wonderland? How many characters does it have?"
   ]
  },
  {
   "cell_type": "code",
   "execution_count": 12,
   "metadata": {
    "collapsed": false
   },
   "outputs": [
    {
     "name": "stdout",
     "output_type": "stream",
     "text": [
      "http://www.gutenberg.org/1/9/0/3/19033/ 39\n"
     ]
    }
   ],
   "source": [
    "listWords = list(wordcount.keys())\n",
    "wordLen = 0\n",
    "for word in listWords:\n",
    "    if len(word)>wordLen:\n",
    "        wordLen=len(word)\n",
    "        wordLong=word\n",
    "        \n",
    "print wordLong, wordLen\n",
    "file.close();"
   ]
  },
  {
   "cell_type": "code",
   "execution_count": null,
   "metadata": {
    "collapsed": true
   },
   "outputs": [],
   "source": []
  }
 ],
 "metadata": {
  "kernelspec": {
   "display_name": "Python 2",
   "language": "python",
   "name": "python2"
  },
  "language_info": {
   "codemirror_mode": {
    "name": "ipython",
    "version": 2
   },
   "file_extension": ".py",
   "mimetype": "text/x-python",
   "name": "python",
   "nbconvert_exporter": "python",
   "pygments_lexer": "ipython2",
   "version": "2.7.11"
  }
 },
 "nbformat": 4,
 "nbformat_minor": 0
}
