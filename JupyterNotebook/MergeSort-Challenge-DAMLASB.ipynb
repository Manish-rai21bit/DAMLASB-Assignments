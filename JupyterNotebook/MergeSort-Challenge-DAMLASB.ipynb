{
 "cells": [
  {
   "cell_type": "markdown",
   "metadata": {},
   "source": [
    "# MergeSort Example Challenge\n",
    "Given two sorted lists:\n",
    "\n",
    "Combine them such that you get a single sorted list (without using the sort/sorted functions, and single loop)\n",
    "\n",
    "a = [3,7,24]\n",
    "b = [2,3, 5,33]\n",
    "\n",
    "\n",
    "combined = [2, 3, 5, 7, 24, 33]\n",
    "\n",
    "def mergeSort(a,b):\n",
    "\n"
   ]
  },
  {
   "cell_type": "code",
   "execution_count": null,
   "metadata": {
    "collapsed": true
   },
   "outputs": [],
   "source": [
    "## Choose which list you want to sort\n",
    "\n",
    "#a = [3,2,5,10,38,47,92,1,3,5,23,12]\n",
    "a = [\"Jimi\",\"vick\",\"Alan\"]\n",
    "# to lower case if needed\n",
    "a = map(str.lower, a)\n",
    "# sort the list\n",
    "a.sort()\n",
    "print(a)\n",
    "\n",
    "#b = [6,2,32,34,35,68,73,1,34,84,15]\n",
    "b = [\"A\",\"Z\",\"m\"]\n",
    "# to lower case if needed\n",
    "b = map(str.lower, b)\n",
    "# sort the list\n",
    "b.sort()\n",
    "print(b)\n",
    "\n",
    "def mergeSortedLists(a,b):\n",
    "    l = []\n",
    "    while a and b:\n",
    "        if a[0] < b[0] :\n",
    "            l.append(a.pop(0))\n",
    "        else:\n",
    "            l.append(b.pop(0))\n",
    "        return l + a + b\n",
    "\n",
    "result = mergeSortedLists(a,b) \n",
    "print(result) "
   ]
  },
  {
   "cell_type": "code",
   "execution_count": 9,
   "metadata": {
    "collapsed": false
   },
   "outputs": [
    {
     "name": "stdout",
     "output_type": "stream",
     "text": [
      "[2, 3, 5, 7, 24, 33]\n"
     ]
    }
   ],
   "source": [
    "a = [3,7,24]\n",
    "b = [2,5,33]\n",
    "def mergeShortedList(a,b):\n",
    "    l = []\n",
    "    while a and b:\n",
    "        if a[0] < b[0]:\n",
    "            l.append(a.pop(0))\n",
    "        else:\n",
    "            l.append(b.pop(0))\n",
    "    return l + a + b\n",
    "\n",
    "result = mergeShortedList(a,b)\n",
    "print(result)"
   ]
  },
  {
   "cell_type": "code",
   "execution_count": 3,
   "metadata": {
    "collapsed": false
   },
   "outputs": [
    {
     "name": "stdout",
     "output_type": "stream",
     "text": [
      "['ashley', 'ben', 'china', 'sam', 'walk']\n"
     ]
    }
   ],
   "source": [
    "A = [\"ashley\", \"china\", \"sam\"]\n",
    "B = [\"ben\", \"walk\"]\n",
    "\n",
    "def mergesorted(a, b):\n",
    "    l = []\n",
    "    while a and b:\n",
    "        if a[0] < b[0]:\n",
    "            l.append(a.pop(0))\n",
    "        else:\n",
    "            l.append(b.pop(0))\n",
    "    return l + a + b\n",
    "\n",
    "print mergesorted(A, B)"
   ]
  },
  {
   "cell_type": "code",
   "execution_count": 12,
   "metadata": {
    "collapsed": false
   },
   "outputs": [
    {
     "name": "stdout",
     "output_type": "stream",
     "text": [
      "[[3, 'val3'], [5, 'val5'], [7, 'val7'], [9, 'val0']]\n"
     ]
    }
   ],
   "source": [
    "a = [[3, \"val3\"], [7, \"val7\"]]\n",
    "b = [[5, \"val5\"], [9, \"val0\"]]\n",
    "\n",
    "def mergesort(a, b):\n",
    "    l=[]\n",
    "    while a and b: \n",
    "        if a[0][0] < b[0][0]:\n",
    "            l.append(a.pop(0))\n",
    "        else:\n",
    "            l.append(b.pop(0))\n",
    "    return l + a + b\n",
    "    \n",
    "result = mergesort(a, b)\n",
    "print(result)"
   ]
  },
  {
   "cell_type": "code",
   "execution_count": null,
   "metadata": {
    "collapsed": true
   },
   "outputs": [],
   "source": []
  }
 ],
 "metadata": {
  "anaconda-cloud": {},
  "kernelspec": {
   "display_name": "Python [default]",
   "language": "python",
   "name": "python2"
  },
  "language_info": {
   "codemirror_mode": {
    "name": "ipython",
    "version": 2
   },
   "file_extension": ".py",
   "mimetype": "text/x-python",
   "name": "python",
   "nbconvert_exporter": "python",
   "pygments_lexer": "ipython2",
   "version": "2.7.12"
  }
 },
 "nbformat": 4,
 "nbformat_minor": 0
}
