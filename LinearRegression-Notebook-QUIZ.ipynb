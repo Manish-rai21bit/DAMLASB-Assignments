{
 "cells": [
  {
   "cell_type": "markdown",
   "metadata": {},
   "source": [
    "# Quiz 4 on Spark\n",
    "###  Quiz 4.1 fill in the missing mapper and reducer code for linear regression via gradient descent\n",
    "###  Quiz 4.2 Extend to LASSO and Ridge regression"
   ]
  },
  {
   "cell_type": "markdown",
   "metadata": {},
   "source": [
    "## Data Generation"
   ]
  },
  {
   "cell_type": "code",
   "execution_count": 2,
   "metadata": {
    "collapsed": false
   },
   "outputs": [],
   "source": [
    "import numpy as np\n",
    "import csv\n",
    "def data_generate(fileName, w=[0,0], size=100):\n",
    "    np.random.seed(0)\n",
    "    x = np.random.uniform(-4, 4, size)\n",
    "    noise = np.random.normal(0, 2, size)\n",
    "    y = (x * w[0] + w[1] + noise)\n",
    "    data = zip(y, x)\n",
    "    with open(fileName,'wb') as f:\n",
    "        writer = csv.writer(f)\n",
    "        for row in data:\n",
    "            writer.writerow(row)\n",
    "    return True"
   ]
  },
  {
   "cell_type": "code",
   "execution_count": 3,
   "metadata": {
    "collapsed": false
   },
   "outputs": [],
   "source": [
    "import numpy as np\n",
    "import csv\n",
    "def data_generateAndReturn(fileName, w=[0,0], size=100):\n",
    "    np.random.seed(0)\n",
    "    x = np.random.uniform(-4, 4, size)\n",
    "    noise = np.random.normal(0, 2, size)\n",
    "    y = (x * w[0] + w[1] + noise)\n",
    "    data = zip(y, x)\n",
    "    return data"
   ]
  },
  {
   "cell_type": "markdown",
   "metadata": {},
   "source": [
    "The true y = 8x - 2."
   ]
  },
  {
   "cell_type": "code",
   "execution_count": 4,
   "metadata": {
    "collapsed": false
   },
   "outputs": [
    {
     "data": {
      "text/plain": [
       "True"
      ]
     },
     "execution_count": 4,
     "metadata": {},
     "output_type": "execute_result"
    }
   ],
   "source": [
    "w = [8,-2]\n",
    "data_generate('data.csv', w, 100)"
   ]
  },
  {
   "cell_type": "code",
   "execution_count": 5,
   "metadata": {
    "collapsed": false
   },
   "outputs": [
    {
     "name": "stdout",
     "output_type": "stream",
     "text": [
      "-1.2062354302179288,0.39050803141859802\r",
      "\r\n",
      "13.573772421743222,1.7215149309793558\r",
      "\r\n",
      "5.5081809480461281,0.822107008573151\r",
      "\r\n",
      "-2.1999636607530482,0.35906546397517491\r",
      "\r\n",
      "-3.9095884547188993,-0.61076160528876233\r",
      "\r\n",
      "11.129001588327158,1.1671529045332489\r",
      "\r\n",
      "-3.6368593368683779,-0.49930230989845992\r",
      "\r\n",
      "22.713622378428404,3.1341840062566382\r",
      "\r\n",
      "25.532911429044788,3.7093020840082342\r",
      "\r\n",
      "-7.3508393412879531,-0.93246784939377836\r",
      "\r\n"
     ]
    }
   ],
   "source": [
    "!head data.csv"
   ]
  },
  {
   "cell_type": "markdown",
   "metadata": {},
   "source": [
    "# Data Visualization"
   ]
  },
  {
   "cell_type": "code",
   "execution_count": 6,
   "metadata": {
    "collapsed": false
   },
   "outputs": [],
   "source": [
    "%matplotlib inline\n",
    "import matplotlib.pyplot as plt\n",
    "def dataPlot(file, w):\n",
    "    with open(file, 'r') as f:\n",
    "        reader = csv.reader(f)\n",
    "        for row in reader:\n",
    "            plt.plot(float(row[1]), float(row[0]),'o'+'r')\n",
    "    plt.xlabel(\"x\")\n",
    "    plt.ylabel(\"y\")\n",
    "    x = [-4, 4]\n",
    "    y = [(i * w[0] + w[1]) for i in x]\n",
    "    plt.plot(x,y, linewidth=2.0)\n",
    "    plt.grid()\n",
    "    plt.show()"
   ]
  },
  {
   "cell_type": "code",
   "execution_count": 7,
   "metadata": {
    "collapsed": false
   },
   "outputs": [
    {
     "data": {
      "image/png": "[encoded data removed]",
      "text/plain": [
       "<matplotlib.figure.Figure at 0x107b080d0>"
      ]
     },
     "metadata": {},
     "output_type": "display_data"
    }
   ],
   "source": [
    "dataPlot('data.csv',w)"
   ]
  },
  {
   "cell_type": "markdown",
   "metadata": {},
   "source": [
    "#Start Spark"
   ]
  },
  {
   "cell_type": "code",
   "execution_count": 1,
   "metadata": {
    "collapsed": false
   },
   "outputs": [
    {
     "name": "stdout",
     "output_type": "stream",
     "text": [
      "Welcome to\n",
      "      ____              __\n",
      "     / __/__  ___ _____/ /__\n",
      "    _\\ \\/ _ \\/ _ `/ __/  '_/\n",
      "   /__ / .__/\\_,_/_/ /_/\\_\\   version 1.5.0\n",
      "      /_/\n",
      "\n",
      "Using Python version 2.7.12 (default, Jul  2 2016 17:43:17)\n",
      "SparkContext available as sc, HiveContext available as sqlContext.\n"
     ]
    }
   ],
   "source": [
    "import os\n",
    "import sys\n",
    "#Escape L for line numbers\n",
    "#spark_home = os.environ['SPARK_HOME'] = '/Users/liang/Downloads/spark-1.5.1-bin-hadoop2.6/'\n",
    "spark_home = os.environ['SPARK_HOME'] = '/Users/jshanahan/Dropbox/Lectures-UC-Berkeley-ML-Class-2015/spark-1.5.0-bin-hadoop2.6/'\n",
    "if not spark_home:\n",
    "    raise ValueError('SPARK_HOME enviroment variable is not set')\n",
    "sys.path.insert(0,os.path.join(spark_home,'python'))\n",
    "sys.path.insert(0,os.path.join(spark_home,'python/lib/py4j-0.8.2.1-src.zip'))\n",
    "execfile(os.path.join(spark_home,'python/pyspark/shell.py'))"
   ]
  },
  {
   "cell_type": "markdown",
   "metadata": {},
   "source": [
    "# Quiz 4.1: Gradient descent (no regularization)\n",
    "\n",
    "* Fill in the missing mapper and reducer code below.\n",
    "* Then plot the learnt model and show the progress using the \"iterationsPlot()\" function defined below\n"
   ]
  },
  {
   "cell_type": "code",
   "execution_count": 8,
   "metadata": {
    "collapsed": false
   },
   "outputs": [],
   "source": [
    "import numpy as np\n",
    "\n",
    "def linearRegressionGD(data, wInitial=None, learningRate=0.05, iterations=50):\n",
    "    featureLen = len(data.take(1)[0])-1\n",
    "    n = data.count()\n",
    "    if wInitial is None:  #start learning from a random vector\n",
    "        w = np.random.normal(size=featureLen) # w should be broadcasted if it is large\n",
    "    else:                 #start from provided vector\n",
    "        w = wInitial\n",
    "    for i in range(iterations):\n",
    "        wBroadcast = sc.broadcast(w) #make available in memory as read-only to the executors (for mappers and reducers)\n",
    "        gradient = data.map(FILL IN ) \\\n",
    "                    .reduce(FILL IN )\n",
    "        w = w - learningRate * gradient/n\n",
    "    return w"
   ]
  },
  {
   "cell_type": "code",
   "execution_count": 9,
   "metadata": {
    "collapsed": false
   },
   "outputs": [
    {
     "data": {
      "text/plain": [
       "array([ 7.98418741, -1.61969498])"
      ]
     },
     "execution_count": 9,
     "metadata": {},
     "output_type": "execute_result"
    }
   ],
   "source": [
    "data = sc.textFile('data.csv').map(lambda line: [float(v) for v in line.split(',')]+[1.0]).cache() #plus bias term\n",
    "# data [[-1.2062354302179288, 0.390508031418598, 1.0],\n",
    "#       [13.573772421743222, 1.7215149309793558, 1.0],\n",
    "#       [5.508180948046128, 0.822107008573151, 1.0], .......]\n",
    "linearRegressionGD(data)"
   ]
  },
  {
   "cell_type": "markdown",
   "metadata": {},
   "source": [
    "## Plot w in iterations"
   ]
  },
  {
   "cell_type": "code",
   "execution_count": 10,
   "metadata": {
    "collapsed": false
   },
   "outputs": [],
   "source": [
    "def iterationsPlot(fileName, truew):\n",
    "    x = [-4, 4]\n",
    "    \n",
    "    w = truew\n",
    "    y = [(i * w[0] + w[1]) for i in x]\n",
    "    plt.plot(x, y, 'b', label=\"True line\", linewidth=4.0)\n",
    "    \n",
    "    data = sc.textFile(fileName).map(lambda line: [float(v) for v in line.split(',')]+[1.0]).cache()\n",
    "    n = data.count()\n",
    "    \n",
    "    np.random.seed(400)\n",
    "    w = np.random.normal(0,1,2)\n",
    "    y = [(i * w[0] + w[1]) for i in x]\n",
    "    plt.plot(x, y, 'r--', label=\"After 0 Iterations\", linewidth=2.0)\n",
    "    squared_error = data.map(lambda d: (d[0] - np.dot(w, d[1:]))**2).reduce(lambda a, b: a + b)\n",
    "    print \"Mean Squared Error after 0 iterations: \" + str(squared_error/n)\n",
    "    \n",
    "\n",
    "    \n",
    "    w = linearRegressionGD(data, w, iterations=2)\n",
    "    y = [(i * w[0] + w[1]) for i in x]\n",
    "    plt.plot(x, y, 'g--', label=\"After 2 Iterations\", linewidth=2.0)\n",
    "    squared_error = data.map(lambda d: (d[0] - np.dot(w, d[1:]))**2).reduce(lambda a, b: a + b)\n",
    "    print \"Mean Squared Error after 2 iterations: \" + str(squared_error/n)\n",
    "    \n",
    "    w = linearRegressionGD(data, w, iterations=2)\n",
    "    y = [(i * w[0] + w[1]) for i in x]\n",
    "    plt.plot(x, y, 'm--', label=\"After 4 Iterations\", linewidth=2.0)\n",
    "    squared_error = data.map(lambda d: (d[0] - np.dot(w, d[1:]))**2).reduce(lambda a, b: a + b)\n",
    "    print \"Mean Squared Error after 4 iterations: \" + str(squared_error/n)\n",
    "    \n",
    "    w = linearRegressionGD(data, w, iterations=2)\n",
    "    y = [(i * w[0] + w[1]) for i in x]\n",
    "    plt.plot(x, y, 'y--', label=\"After 6 Iterations\", linewidth=2.0)\n",
    "    squared_error = data.map(lambda d: (d[0] - np.dot(w, d[1:]))**2).reduce(lambda a, b: a + b)\n",
    "    print \"Mean Squared Error after 6 iterations: \" + str(squared_error/n)\n",
    "    \n",
    "    plt.legend(bbox_to_anchor=(1.05, 1), loc=2, fontsize=20, borderaxespad=0.)\n",
    "    plt.xlabel(\"x\")\n",
    "    plt.ylabel(\"y\")\n",
    "    plt.grid()\n",
    "    plt.show()"
   ]
  },
  {
   "cell_type": "code",
   "execution_count": 11,
   "metadata": {
    "collapsed": false
   },
   "outputs": [
    {
     "name": "stdout",
     "output_type": "stream",
     "text": [
      "Mean Squared Error after 0 iterations: 464.394955261\n",
      "Mean Squared Error after 2 iterations: 27.0859380611\n",
      "Mean Squared Error after 4 iterations: 6.40859048434\n",
      "Mean Squared Error after 6 iterations: 4.9932567759\n"
     ]
    },
    {
     "data": {
      "image/png": "[encoded data removed]",
      "text/plain": [
       "<matplotlib.figure.Figure at 0x108a8de50>"
      ]
     },
     "metadata": {},
     "output_type": "display_data"
    }
   ],
   "source": [
    "iterationsPlot('data.csv',w)"
   ]
  },
  {
   "cell_type": "markdown",
   "metadata": {},
   "source": [
    "# Quiz 4.2 Expand you your linear regression model to do regularized linear regression using Ridge and LASSO"
   ]
  },
  {
   "cell_type": "markdown",
   "metadata": {},
   "source": [
    "## Ridge  Regression"
   ]
  },
  {
   "cell_type": "code",
   "execution_count": 13,
   "metadata": {
    "collapsed": false
   },
   "outputs": [
    {
     "data": {
      "text/plain": [
       "array([ 7.98398871, -1.60876051])"
      ]
     },
     "execution_count": 13,
     "metadata": {},
     "output_type": "execute_result"
    }
   ],
   "source": [
    "np.random.seed(400)\n",
    "linearRegressionGDReg(data, iterations=50, regParam=0.1, regType=\"Ridge\")"
   ]
  },
  {
   "cell_type": "markdown",
   "metadata": {},
   "source": [
    "## Lasso  Regression"
   ]
  },
  {
   "cell_type": "code",
   "execution_count": 14,
   "metadata": {
    "collapsed": false
   },
   "outputs": [
    {
     "data": {
      "text/plain": [
       "array([ 7.98464511, -1.60861879])"
      ]
     },
     "execution_count": 14,
     "metadata": {},
     "output_type": "execute_result"
    }
   ],
   "source": [
    "np.random.seed(400)\n",
    "linearRegressionGDReg(data, iterations=50, regParam=0.1, regType=\"Lasso\")"
   ]
  },
  {
   "cell_type": "markdown",
   "metadata": {},
   "source": [
    "#MLlib Linear Regression"
   ]
  },
  {
   "cell_type": "markdown",
   "metadata": {},
   "source": [
    "http://spark.apache.org/docs/latest/mllib-linear-methods.html"
   ]
  },
  {
   "cell_type": "code",
   "execution_count": 15,
   "metadata": {
    "collapsed": false
   },
   "outputs": [
    {
     "name": "stdout",
     "output_type": "stream",
     "text": [
      "(weights=[7.98393748404], intercept=-1.6187449131887346)\n",
      "(weights=[7.84187615307], intercept=-1.4995150386072356)\n",
      "(weights=[7.96888879755], intercept=-1.5288617888658909)\n"
     ]
    }
   ],
   "source": [
    "from pyspark.mllib.regression import LabeledPoint, LinearRegressionWithSGD, LinearRegressionModel\n",
    "\n",
    "# Load and parse the data\n",
    "def parsePoint(line):\n",
    "    values = [float(x) for x in line.split(',')]\n",
    "    return LabeledPoint(values[0], values[1:])\n",
    "\n",
    "data = sc.textFile(\"data.csv\")\n",
    "parsedData = data.map(parsePoint)\n",
    "\n",
    "# Build the model\n",
    "#VANILLA REGRESSION\n",
    "model = LinearRegressionWithSGD.train(parsedData, intercept=True, iterations=50)\n",
    "print model\n",
    "#RIDGE\n",
    "model_ridge = LinearRegressionWithSGD.train(parsedData, regType=\"l2\", regParam=0.1, intercept=True)\n",
    "print model_ridge\n",
    "#LASSO\n",
    "model_lasso = LinearRegressionWithSGD.train(parsedData, regType=\"l1\", regParam=0.1, intercept=True)\n",
    "print model_lasso"
   ]
  },
  {
   "cell_type": "code",
   "execution_count": null,
   "metadata": {
    "collapsed": true
   },
   "outputs": [],
   "source": []
  }
 ],
 "metadata": {
  "anaconda-cloud": {},
  "kernelspec": {
   "display_name": "Python [default]",
   "language": "python",
   "name": "python2"
  },
  "language_info": {
   "codemirror_mode": {
    "name": "ipython",
    "version": 2
   },
   "file_extension": ".py",
   "mimetype": "text/x-python",
   "name": "python",
   "nbconvert_exporter": "python",
   "pygments_lexer": "ipython2",
   "version": "2.7.12"
  }
 },
 "nbformat": 4,
 "nbformat_minor": 0
}
